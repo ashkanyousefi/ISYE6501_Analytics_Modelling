{
 "cells": [
  {
   "cell_type": "markdown",
   "metadata": {},
   "source": [
    "### HW9"
   ]
  },
  {
   "cell_type": "markdown",
   "metadata": {},
   "source": [
    "### Q12.1   Describe a situation or problem from your job, everyday life, current events, etc., for which a design of experiments approach would be appropriate."
   ]
  },
  {
   "cell_type": "markdown",
   "metadata": {},
   "source": [
    "I am working on a project to get the insights from the grain storage. To be able to select the required sensors and determine which factors to capture for the grain storage. I need to make a stable condition for certain parameters such as humidity, moisture and so on. I am designing my experiments in the controlled silos to make sure that I can control some factors while experimenting the impacts of other factors."
   ]
  },
  {
   "cell_type": "markdown",
   "metadata": {},
   "source": [
    "### Q12.1"
   ]
  },
  {
   "cell_type": "markdown",
   "metadata": {},
   "source": [
    "To determine the value of 10 different yes/no features to the market value of a house (large yard, solar roof, etc.), a real estate agent plans to survey 50 potential buyers, showing a fictitious house with different combinations of features. To reduce the survey size, the agent wants to show just 16 fictitious houses. Use R’s FrF2 function (in the FrF2 package) to find a fractional factorial design for this experiment: what set of features should each of the 16 fictitious houses have? Note: the output of FrF2 is “1” (include) or “-1” (don’t include) for each feature."
   ]
  },
  {
   "cell_type": "code",
   "execution_count": 1,
   "metadata": {},
   "outputs": [
    {
     "name": "stdout",
     "output_type": "stream",
     "text": [
      "package 'FrF2' successfully unpacked and MD5 sums checked\n",
      "\n",
      "The downloaded binary packages are in\n",
      "\tC:\\Users\\ashka\\AppData\\Local\\Temp\\Rtmp2BSgI0\\downloaded_packages\n"
     ]
    },
    {
     "name": "stderr",
     "output_type": "stream",
     "text": [
      "Loading required package: DoE.base\n",
      "Loading required package: grid\n",
      "Loading required package: conf.design\n",
      "Registered S3 method overwritten by 'DoE.base':\n",
      "  method           from       \n",
      "  factorize.factor conf.design\n",
      "\n",
      "Attaching package: 'DoE.base'\n",
      "\n",
      "The following objects are masked from 'package:stats':\n",
      "\n",
      "    aov, lm\n",
      "\n",
      "The following object is masked from 'package:graphics':\n",
      "\n",
      "    plot.design\n",
      "\n",
      "The following object is masked from 'package:base':\n",
      "\n",
      "    lengths\n",
      "\n"
     ]
    },
    {
     "data": {
      "text/html": [
       "<table>\n",
       "<thead><tr><th scope=col>dishwasher</th><th scope=col>car.parking</th><th scope=col>high.speed.internet</th><th scope=col>wooden.flooring</th><th scope=col>elevator</th><th scope=col>gym</th><th scope=col>central.ac</th><th scope=col>good.schools</th><th scope=col>backyard</th><th scope=col>in.house.laundry</th></tr></thead>\n",
       "<tbody>\n",
       "\t<tr><td>-1</td><td>-1</td><td>1 </td><td>-1</td><td>1 </td><td>-1</td><td>-1</td><td>1 </td><td>1 </td><td>-1</td></tr>\n",
       "\t<tr><td>1 </td><td>1 </td><td>1 </td><td>1 </td><td>1 </td><td>1 </td><td>1 </td><td>1 </td><td>1 </td><td>1 </td></tr>\n",
       "\t<tr><td>1 </td><td>1 </td><td>1 </td><td>-1</td><td>1 </td><td>1 </td><td>1 </td><td>-1</td><td>-1</td><td>-1</td></tr>\n",
       "\t<tr><td>-1</td><td>1 </td><td>-1</td><td>-1</td><td>-1</td><td>1 </td><td>-1</td><td>1 </td><td>1 </td><td>-1</td></tr>\n",
       "\t<tr><td>-1</td><td>-1</td><td>-1</td><td>1 </td><td>1 </td><td>1 </td><td>1 </td><td>-1</td><td>1 </td><td>-1</td></tr>\n",
       "\t<tr><td>1 </td><td>-1</td><td>1 </td><td>-1</td><td>-1</td><td>1 </td><td>-1</td><td>-1</td><td>1 </td><td>1 </td></tr>\n",
       "\t<tr><td>1 </td><td>1 </td><td>-1</td><td>1 </td><td>1 </td><td>-1</td><td>-1</td><td>1 </td><td>-1</td><td>-1</td></tr>\n",
       "\t<tr><td>1 </td><td>1 </td><td>-1</td><td>-1</td><td>1 </td><td>-1</td><td>-1</td><td>-1</td><td>1 </td><td>1 </td></tr>\n",
       "\t<tr><td>-1</td><td>1 </td><td>1 </td><td>-1</td><td>-1</td><td>-1</td><td>1 </td><td>1 </td><td>-1</td><td>1 </td></tr>\n",
       "\t<tr><td>-1</td><td>1 </td><td>1 </td><td>1 </td><td>-1</td><td>-1</td><td>1 </td><td>-1</td><td>1 </td><td>-1</td></tr>\n",
       "\t<tr><td>-1</td><td>1 </td><td>-1</td><td>1 </td><td>-1</td><td>1 </td><td>-1</td><td>-1</td><td>-1</td><td>1 </td></tr>\n",
       "\t<tr><td>1 </td><td>-1</td><td>1 </td><td>1 </td><td>-1</td><td>1 </td><td>-1</td><td>1 </td><td>-1</td><td>-1</td></tr>\n",
       "\t<tr><td>1 </td><td>-1</td><td>-1</td><td>-1</td><td>-1</td><td>-1</td><td>1 </td><td>-1</td><td>-1</td><td>-1</td></tr>\n",
       "\t<tr><td>-1</td><td>-1</td><td>1 </td><td>1 </td><td>1 </td><td>-1</td><td>-1</td><td>-1</td><td>-1</td><td>1 </td></tr>\n",
       "\t<tr><td>-1</td><td>-1</td><td>-1</td><td>-1</td><td>1 </td><td>1 </td><td>1 </td><td>1 </td><td>-1</td><td>1 </td></tr>\n",
       "\t<tr><td>1 </td><td>-1</td><td>-1</td><td>1 </td><td>-1</td><td>-1</td><td>1 </td><td>1 </td><td>1 </td><td>1 </td></tr>\n",
       "</tbody>\n",
       "</table>\n"
      ],
      "text/latex": [
       "\\begin{tabular}{r|llllllllll}\n",
       " dishwasher & car.parking & high.speed.internet & wooden.flooring & elevator & gym & central.ac & good.schools & backyard & in.house.laundry\\\\\n",
       "\\hline\n",
       "\t -1 & -1 & 1  & -1 & 1  & -1 & -1 & 1  & 1  & -1\\\\\n",
       "\t 1  & 1  & 1  & 1  & 1  & 1  & 1  & 1  & 1  & 1 \\\\\n",
       "\t 1  & 1  & 1  & -1 & 1  & 1  & 1  & -1 & -1 & -1\\\\\n",
       "\t -1 & 1  & -1 & -1 & -1 & 1  & -1 & 1  & 1  & -1\\\\\n",
       "\t -1 & -1 & -1 & 1  & 1  & 1  & 1  & -1 & 1  & -1\\\\\n",
       "\t 1  & -1 & 1  & -1 & -1 & 1  & -1 & -1 & 1  & 1 \\\\\n",
       "\t 1  & 1  & -1 & 1  & 1  & -1 & -1 & 1  & -1 & -1\\\\\n",
       "\t 1  & 1  & -1 & -1 & 1  & -1 & -1 & -1 & 1  & 1 \\\\\n",
       "\t -1 & 1  & 1  & -1 & -1 & -1 & 1  & 1  & -1 & 1 \\\\\n",
       "\t -1 & 1  & 1  & 1  & -1 & -1 & 1  & -1 & 1  & -1\\\\\n",
       "\t -1 & 1  & -1 & 1  & -1 & 1  & -1 & -1 & -1 & 1 \\\\\n",
       "\t 1  & -1 & 1  & 1  & -1 & 1  & -1 & 1  & -1 & -1\\\\\n",
       "\t 1  & -1 & -1 & -1 & -1 & -1 & 1  & -1 & -1 & -1\\\\\n",
       "\t -1 & -1 & 1  & 1  & 1  & -1 & -1 & -1 & -1 & 1 \\\\\n",
       "\t -1 & -1 & -1 & -1 & 1  & 1  & 1  & 1  & -1 & 1 \\\\\n",
       "\t 1  & -1 & -1 & 1  & -1 & -1 & 1  & 1  & 1  & 1 \\\\\n",
       "\\end{tabular}\n"
      ],
      "text/markdown": [
       "\n",
       "| dishwasher | car.parking | high.speed.internet | wooden.flooring | elevator | gym | central.ac | good.schools | backyard | in.house.laundry |\n",
       "|---|---|---|---|---|---|---|---|---|---|\n",
       "| -1 | -1 | 1  | -1 | 1  | -1 | -1 | 1  | 1  | -1 |\n",
       "| 1  | 1  | 1  | 1  | 1  | 1  | 1  | 1  | 1  | 1  |\n",
       "| 1  | 1  | 1  | -1 | 1  | 1  | 1  | -1 | -1 | -1 |\n",
       "| -1 | 1  | -1 | -1 | -1 | 1  | -1 | 1  | 1  | -1 |\n",
       "| -1 | -1 | -1 | 1  | 1  | 1  | 1  | -1 | 1  | -1 |\n",
       "| 1  | -1 | 1  | -1 | -1 | 1  | -1 | -1 | 1  | 1  |\n",
       "| 1  | 1  | -1 | 1  | 1  | -1 | -1 | 1  | -1 | -1 |\n",
       "| 1  | 1  | -1 | -1 | 1  | -1 | -1 | -1 | 1  | 1  |\n",
       "| -1 | 1  | 1  | -1 | -1 | -1 | 1  | 1  | -1 | 1  |\n",
       "| -1 | 1  | 1  | 1  | -1 | -1 | 1  | -1 | 1  | -1 |\n",
       "| -1 | 1  | -1 | 1  | -1 | 1  | -1 | -1 | -1 | 1  |\n",
       "| 1  | -1 | 1  | 1  | -1 | 1  | -1 | 1  | -1 | -1 |\n",
       "| 1  | -1 | -1 | -1 | -1 | -1 | 1  | -1 | -1 | -1 |\n",
       "| -1 | -1 | 1  | 1  | 1  | -1 | -1 | -1 | -1 | 1  |\n",
       "| -1 | -1 | -1 | -1 | 1  | 1  | 1  | 1  | -1 | 1  |\n",
       "| 1  | -1 | -1 | 1  | -1 | -1 | 1  | 1  | 1  | 1  |\n",
       "\n"
      ],
      "text/plain": [
       "   dishwasher car.parking high.speed.internet wooden.flooring elevator gym\n",
       "1  -1         -1          1                   -1              1        -1 \n",
       "2  1          1           1                   1               1        1  \n",
       "3  1          1           1                   -1              1        1  \n",
       "4  -1         1           -1                  -1              -1       1  \n",
       "5  -1         -1          -1                  1               1        1  \n",
       "6  1          -1          1                   -1              -1       1  \n",
       "7  1          1           -1                  1               1        -1 \n",
       "8  1          1           -1                  -1              1        -1 \n",
       "9  -1         1           1                   -1              -1       -1 \n",
       "10 -1         1           1                   1               -1       -1 \n",
       "11 -1         1           -1                  1               -1       1  \n",
       "12 1          -1          1                   1               -1       1  \n",
       "13 1          -1          -1                  -1              -1       -1 \n",
       "14 -1         -1          1                   1               1        -1 \n",
       "15 -1         -1          -1                  -1              1        1  \n",
       "16 1          -1          -1                  1               -1       -1 \n",
       "   central.ac good.schools backyard in.house.laundry\n",
       "1  -1         1            1        -1              \n",
       "2  1          1            1        1               \n",
       "3  1          -1           -1       -1              \n",
       "4  -1         1            1        -1              \n",
       "5  1          -1           1        -1              \n",
       "6  -1         -1           1        1               \n",
       "7  -1         1            -1       -1              \n",
       "8  -1         -1           1        1               \n",
       "9  1          1            -1       1               \n",
       "10 1          -1           1        -1              \n",
       "11 -1         -1           -1       1               \n",
       "12 -1         1            -1       -1              \n",
       "13 1          -1           -1       -1              \n",
       "14 -1         -1           -1       1               \n",
       "15 1          1            -1       1               \n",
       "16 1          1            1        1               "
      ]
     },
     "metadata": {},
     "output_type": "display_data"
    }
   ],
   "source": [
    "# This part loads the package ccalled FrF2\n",
    "\n",
    "install.packages(\"FrF2\")\n",
    "library(FrF2)\n",
    "\n",
    "features = c(\"dishwasher\", \"car-parking\", \"high-speed-internet\",\n",
    "            \"wooden-flooring\", \"elevator\", \"gym\",\n",
    "            \"central-ac\", \"good-schools\", \"backyard\", \"in-house laundry\")\n",
    "\n",
    "FrF2(16, factor.names = features)"
   ]
  },
  {
   "cell_type": "code",
   "execution_count": null,
   "metadata": {},
   "outputs": [],
   "source": []
  },
  {
   "cell_type": "code",
   "execution_count": null,
   "metadata": {},
   "outputs": [],
   "source": []
  }
 ],
 "metadata": {
  "kernelspec": {
   "display_name": "R",
   "language": "R",
   "name": "ir"
  },
  "language_info": {
   "codemirror_mode": "r",
   "file_extension": ".r",
   "mimetype": "text/x-r-source",
   "name": "R",
   "pygments_lexer": "r",
   "version": "3.6.1"
  }
 },
 "nbformat": 4,
 "nbformat_minor": 2
}
