{
 "cells": [
  {
   "cell_type": "markdown",
   "metadata": {},
   "source": [
    "### Question 10.1"
   ]
  },
  {
   "cell_type": "code",
   "execution_count": 1,
   "metadata": {},
   "outputs": [
    {
     "name": "stdout",
     "output_type": "stream",
     "text": [
      "package 'tree' successfully unpacked and MD5 sums checked\n",
      "\n",
      "The downloaded binary packages are in\n",
      "\tC:\\Users\\ashka\\AppData\\Local\\Temp\\RtmpOSWTFQ\\downloaded_packages\n"
     ]
    },
    {
     "name": "stderr",
     "output_type": "stream",
     "text": [
      "randomForest 4.6-14\n",
      "Type rfNews() to see new features/changes/bug fixes.\n",
      "Loading required package: lattice\n",
      "Loading required package: ggplot2\n",
      "Registered S3 methods overwritten by 'ggplot2':\n",
      "  method         from \n",
      "  [.quosures     rlang\n",
      "  c.quosures     rlang\n",
      "  print.quosures rlang\n",
      "\n",
      "Attaching package: 'ggplot2'\n",
      "\n",
      "The following object is masked from 'package:randomForest':\n",
      "\n",
      "    margin\n",
      "\n"
     ]
    }
   ],
   "source": [
    "#Setting parts\n",
    "set.seed(10)\n",
    "install.packages('tree')\n",
    "library(randomForest)\n",
    "library(caret)\n",
    "library(tree)"
   ]
  },
  {
   "cell_type": "code",
   "execution_count": 2,
   "metadata": {
    "scrolled": true
   },
   "outputs": [],
   "source": [
    "#Read the data \n",
    "data_raw<-read.table(file = 'C:/Users/ashka/Dropbox/GitHub/ISYE6501_Analytics_Modelling/HW7/uscrime.txt', header=TRUE)"
   ]
  },
  {
   "cell_type": "code",
   "execution_count": 3,
   "metadata": {},
   "outputs": [
    {
     "data": {
      "text/plain": [
       "\n",
       "Regression tree:\n",
       "tree(formula = Crime ~ ., data = data_raw)\n",
       "Variables actually used in tree construction:\n",
       "[1] \"Po1\" \"Pop\" \"LF\"  \"NW\" \n",
       "Number of terminal nodes:  7 \n",
       "Residual mean deviance:  47390 = 1896000 / 40 \n",
       "Distribution of residuals:\n",
       "    Min.  1st Qu.   Median     Mean  3rd Qu.     Max. \n",
       "-573.900  -98.300   -1.545    0.000  110.600  490.100 "
      ]
     },
     "metadata": {},
     "output_type": "display_data"
    }
   ],
   "source": [
    "#Build the model\n",
    "# crime_tree_model<-tree(Crime ~. , data=uscrime)\n",
    "crime_tree_model <- tree(formula = Crime ~. , data = data_raw)\n",
    "summary(crime_tree_model)"
   ]
  },
  {
   "cell_type": "code",
   "execution_count": 38,
   "metadata": {
    "scrolled": true
   },
   "outputs": [
    {
     "data": {
      "image/png": "[encoded data removed]",
      "text/plain": [
       "Plot with title \"USCRIME decision tree model\""
      ]
     },
     "metadata": {},
     "output_type": "display_data"
    }
   ],
   "source": [
    "# Test method to check the error rate\n",
    "plot(crime_tree_model)\n",
    "text(crime_tree_model)\n",
    "title('USCRIME decision tree model')"
   ]
  },
  {
   "cell_type": "code",
   "execution_count": 39,
   "metadata": {},
   "outputs": [
    {
     "data": {
      "image/png": "[encoded data removed]",
      "text/plain": [
       "plot without title"
      ]
     },
     "metadata": {},
     "output_type": "display_data"
    }
   ],
   "source": [
    "# prune the tree\n",
    "desired_nodes<-7\n",
    "tree_prune<-prune.tree(tree = crime_tree_model,best = desired_nodes)\n",
    "plot(tree_prune)\n",
    "text(tree_prune)"
   ]
  },
  {
   "cell_type": "code",
   "execution_count": 40,
   "metadata": {
    "scrolled": true
   },
   "outputs": [
    {
     "data": {
      "text/plain": [
       "\n",
       "Regression tree:\n",
       "tree(formula = Crime ~ ., data = data_raw)\n",
       "Variables actually used in tree construction:\n",
       "[1] \"Po1\" \"Pop\" \"LF\"  \"NW\" \n",
       "Number of terminal nodes:  7 \n",
       "Residual mean deviance:  47390 = 1896000 / 40 \n",
       "Distribution of residuals:\n",
       "    Min.  1st Qu.   Median     Mean  3rd Qu.     Max. \n",
       "-573.900  -98.300   -1.545    0.000  110.600  490.100 "
      ]
     },
     "metadata": {},
     "output_type": "display_data"
    }
   ],
   "source": [
    "summary(tree_prune)"
   ]
  },
  {
   "cell_type": "code",
   "execution_count": 41,
   "metadata": {},
   "outputs": [
    {
     "data": {
      "text/html": [
       "<ol class=list-inline>\n",
       "\t<li>1895721.65941558</li>\n",
       "\t<li>2013256.60227273</li>\n",
       "\t<li>2276669.50227273</li>\n",
       "\t<li>2632631.25326087</li>\n",
       "\t<li>3364043.3068323</li>\n",
       "\t<li>4383405.97826087</li>\n",
       "\t<li>6880927.65957447</li>\n",
       "</ol>\n"
      ],
      "text/latex": [
       "\\begin{enumerate*}\n",
       "\\item 1895721.65941558\n",
       "\\item 2013256.60227273\n",
       "\\item 2276669.50227273\n",
       "\\item 2632631.25326087\n",
       "\\item 3364043.3068323\n",
       "\\item 4383405.97826087\n",
       "\\item 6880927.65957447\n",
       "\\end{enumerate*}\n"
      ],
      "text/markdown": [
       "1. 1895721.65941558\n",
       "2. 2013256.60227273\n",
       "3. 2276669.50227273\n",
       "4. 2632631.25326087\n",
       "5. 3364043.3068323\n",
       "6. 4383405.97826087\n",
       "7. 6880927.65957447\n",
       "\n",
       "\n"
      ],
      "text/plain": [
       "[1] 1895722 2013257 2276670 2632631 3364043 4383406 6880928"
      ]
     },
     "metadata": {},
     "output_type": "display_data"
    }
   ],
   "source": [
    "prune.tree(crime_tree_model)$dev"
   ]
  },
  {
   "cell_type": "code",
   "execution_count": 42,
   "metadata": {},
   "outputs": [
    {
     "data": {
      "text/html": [
       "<ol class=list-inline>\n",
       "\t<li>7</li>\n",
       "\t<li>6</li>\n",
       "\t<li>5</li>\n",
       "\t<li>4</li>\n",
       "\t<li>3</li>\n",
       "\t<li>2</li>\n",
       "\t<li>1</li>\n",
       "</ol>\n"
      ],
      "text/latex": [
       "\\begin{enumerate*}\n",
       "\\item 7\n",
       "\\item 6\n",
       "\\item 5\n",
       "\\item 4\n",
       "\\item 3\n",
       "\\item 2\n",
       "\\item 1\n",
       "\\end{enumerate*}\n"
      ],
      "text/markdown": [
       "1. 7\n",
       "2. 6\n",
       "3. 5\n",
       "4. 4\n",
       "5. 3\n",
       "6. 2\n",
       "7. 1\n",
       "\n",
       "\n"
      ],
      "text/plain": [
       "[1] 7 6 5 4 3 2 1"
      ]
     },
     "metadata": {},
     "output_type": "display_data"
    }
   ],
   "source": [
    "prune.tree(crime_tree_model)$size"
   ]
  },
  {
   "cell_type": "code",
   "execution_count": 43,
   "metadata": {},
   "outputs": [
    {
     "data": {
      "image/png": "[encoded data removed]",
      "text/plain": [
       "Plot with title \"The cross validation for 7 nodes\""
      ]
     },
     "metadata": {},
     "output_type": "display_data"
    }
   ],
   "source": [
    "cv_crime<-cv.tree(crime_tree_model)\n",
    "plot(cv_crime$size,cv_crime$dev,type='b')\n",
    "title('The cross validation for 7 nodes')"
   ]
  },
  {
   "cell_type": "code",
   "execution_count": 44,
   "metadata": {},
   "outputs": [
    {
     "data": {
      "image/png": "[encoded data removed]",
      "text/plain": [
       "Plot with title \"The cross validation for 3 nodes\""
      ]
     },
     "metadata": {},
     "output_type": "display_data"
    }
   ],
   "source": [
    "cv_tree_prune<-cv.tree(tree_prune)\n",
    "plot(cv_tree_prune$size,cv_tree_prune$dev,type='b')\n",
    "title('The cross validation for 3 nodes')"
   ]
  },
  {
   "cell_type": "markdown",
   "metadata": {},
   "source": [
    "As per the above graphs it is possible to understand that the 7 node plot is providing the suitable answer comparing with the 3 nodes."
   ]
  },
  {
   "cell_type": "code",
   "execution_count": 45,
   "metadata": {},
   "outputs": [],
   "source": [
    "#calculating the quality of the fit by calculating the residual sum squared and dividing it by the true skill statistics\n",
    "crime_tree_prediction<-predict(tree_prune,data=data_raw[,1:15])\n",
    "RSS <- sum((crime_tree_prediction - data_raw[,16])^2)\n",
    "TSS <- sum((data_raw[,16] - mean(data_raw[,16]))^2)\n",
    "R2 <- 1 - RSS/TSS"
   ]
  },
  {
   "cell_type": "markdown",
   "metadata": {},
   "source": [
    "As it is difficult to check all the node sizes manually, it is useful to apply a loop and check the different accuracy for the various node numbers."
   ]
  },
  {
   "cell_type": "code",
   "execution_count": 46,
   "metadata": {},
   "outputs": [],
   "source": [
    "total_results<-data.frame(matrix(nrow = 5,ncol = 2))\n",
    "colnames(total_results)<-c('NodeSize','R2')\n",
    "i=1\n",
    "for (desired_nodes in 3:7){\n",
    "    crime_tree_model <- tree(formula = Crime ~. , data = data_raw)\n",
    "    tree_prune<-prune.tree(tree = crime_tree_model,best = desired_nodes)\n",
    "    \n",
    "    predict <- predict(tree_prune,data=data_raw[,1:15])\n",
    "    RSS <- sum((predict - data_raw[,16])^2)\n",
    "    TSS <- sum((data_raw[,16] - mean(data_raw[,16]))^2)\n",
    "    R2 <- 1 - RSS/TSS\n",
    "    total_results[i,1]<-desired_nodes\n",
    "    total_results[i,2]<-R2\n",
    "    i=i+1\n",
    "}"
   ]
  },
  {
   "cell_type": "markdown",
   "metadata": {},
   "source": [
    "It sows that increasing the nodes to 7 can greatly improve the performance."
   ]
  },
  {
   "cell_type": "markdown",
   "metadata": {},
   "source": [
    "### Part b: Random forest\n",
    "Part B of the assignment will focus on the random forest and compare the results with the decision tree"
   ]
  },
  {
   "cell_type": "code",
   "execution_count": 47,
   "metadata": {},
   "outputs": [],
   "source": [
    "#Use the loaded data in the tree section of the analysis"
   ]
  },
  {
   "cell_type": "code",
   "execution_count": 48,
   "metadata": {},
   "outputs": [],
   "source": [
    "number_features <- 1 + log(ncol(data_raw))\n",
    "random_forest_model <- randomForest(Crime~., data = data_raw, mtry = num_features, importance = T, ntree = 600)\n"
   ]
  },
  {
   "cell_type": "code",
   "execution_count": 49,
   "metadata": {},
   "outputs": [
    {
     "data": {
      "image/png": "[encoded data removed]",
      "text/plain": [
       "Plot with title \"rf_model\""
      ]
     },
     "metadata": {},
     "output_type": "display_data"
    }
   ],
   "source": [
    "plot(rf_model)"
   ]
  },
  {
   "cell_type": "code",
   "execution_count": 50,
   "metadata": {
    "scrolled": true
   },
   "outputs": [],
   "source": [
    "y_predicted <- predict(random_forest_model)\n",
    "y_reference<-data_raw$Crime\n",
    "RSS<-sum((y_predicted-y_reference)^2)\n",
    "TSS<-sum((y_reference-mean(y_reference))^2)\n",
    "RSQ<-1-RSS/TSS"
   ]
  },
  {
   "cell_type": "code",
   "execution_count": 51,
   "metadata": {},
   "outputs": [
    {
     "data": {
      "text/html": [
       "<table>\n",
       "<thead><tr><th></th><th scope=col>%IncMSE</th><th scope=col>IncNodePurity</th></tr></thead>\n",
       "<tbody>\n",
       "\t<tr><th scope=row>M</th><td> 1.9443264</td><td> 237795.75</td></tr>\n",
       "\t<tr><th scope=row>So</th><td> 2.0437821</td><td>  23196.77</td></tr>\n",
       "\t<tr><th scope=row>Ed</th><td> 3.6304361</td><td> 244507.06</td></tr>\n",
       "\t<tr><th scope=row>Po1</th><td>13.5325017</td><td>1170350.26</td></tr>\n",
       "\t<tr><th scope=row>Po2</th><td>12.8656628</td><td>1053817.43</td></tr>\n",
       "\t<tr><th scope=row>LF</th><td> 1.4690139</td><td> 287869.95</td></tr>\n",
       "\t<tr><th scope=row>M.F</th><td> 1.4650766</td><td> 307339.41</td></tr>\n",
       "\t<tr><th scope=row>Pop</th><td> 0.7565604</td><td> 368026.69</td></tr>\n",
       "\t<tr><th scope=row>NW</th><td>10.2800395</td><td> 519784.66</td></tr>\n",
       "\t<tr><th scope=row>U1</th><td>-0.1478492</td><td> 147789.51</td></tr>\n",
       "\t<tr><th scope=row>U2</th><td> 1.5730397</td><td> 178034.63</td></tr>\n",
       "\t<tr><th scope=row>Wealth</th><td> 4.0173065</td><td> 619315.42</td></tr>\n",
       "\t<tr><th scope=row>Ineq</th><td> 2.2614113</td><td> 223651.39</td></tr>\n",
       "\t<tr><th scope=row>Prob</th><td>10.1595130</td><td> 716718.24</td></tr>\n",
       "\t<tr><th scope=row>Time</th><td> 0.5867046</td><td> 198041.34</td></tr>\n",
       "</tbody>\n",
       "</table>\n"
      ],
      "text/latex": [
       "\\begin{tabular}{r|ll}\n",
       "  & \\%IncMSE & IncNodePurity\\\\\n",
       "\\hline\n",
       "\tM &  1.9443264 &  237795.75\\\\\n",
       "\tSo &  2.0437821 &   23196.77\\\\\n",
       "\tEd &  3.6304361 &  244507.06\\\\\n",
       "\tPo1 & 13.5325017 & 1170350.26\\\\\n",
       "\tPo2 & 12.8656628 & 1053817.43\\\\\n",
       "\tLF &  1.4690139 &  287869.95\\\\\n",
       "\tM.F &  1.4650766 &  307339.41\\\\\n",
       "\tPop &  0.7565604 &  368026.69\\\\\n",
       "\tNW & 10.2800395 &  519784.66\\\\\n",
       "\tU1 & -0.1478492 &  147789.51\\\\\n",
       "\tU2 &  1.5730397 &  178034.63\\\\\n",
       "\tWealth &  4.0173065 &  619315.42\\\\\n",
       "\tIneq &  2.2614113 &  223651.39\\\\\n",
       "\tProb & 10.1595130 &  716718.24\\\\\n",
       "\tTime &  0.5867046 &  198041.34\\\\\n",
       "\\end{tabular}\n"
      ],
      "text/markdown": [
       "\n",
       "| <!--/--> | %IncMSE | IncNodePurity |\n",
       "|---|---|---|\n",
       "| M |  1.9443264 |  237795.75 |\n",
       "| So |  2.0437821 |   23196.77 |\n",
       "| Ed |  3.6304361 |  244507.06 |\n",
       "| Po1 | 13.5325017 | 1170350.26 |\n",
       "| Po2 | 12.8656628 | 1053817.43 |\n",
       "| LF |  1.4690139 |  287869.95 |\n",
       "| M.F |  1.4650766 |  307339.41 |\n",
       "| Pop |  0.7565604 |  368026.69 |\n",
       "| NW | 10.2800395 |  519784.66 |\n",
       "| U1 | -0.1478492 |  147789.51 |\n",
       "| U2 |  1.5730397 |  178034.63 |\n",
       "| Wealth |  4.0173065 |  619315.42 |\n",
       "| Ineq |  2.2614113 |  223651.39 |\n",
       "| Prob | 10.1595130 |  716718.24 |\n",
       "| Time |  0.5867046 |  198041.34 |\n",
       "\n"
      ],
      "text/plain": [
       "       %IncMSE    IncNodePurity\n",
       "M       1.9443264  237795.75   \n",
       "So      2.0437821   23196.77   \n",
       "Ed      3.6304361  244507.06   \n",
       "Po1    13.5325017 1170350.26   \n",
       "Po2    12.8656628 1053817.43   \n",
       "LF      1.4690139  287869.95   \n",
       "M.F     1.4650766  307339.41   \n",
       "Pop     0.7565604  368026.69   \n",
       "NW     10.2800395  519784.66   \n",
       "U1     -0.1478492  147789.51   \n",
       "U2      1.5730397  178034.63   \n",
       "Wealth  4.0173065  619315.42   \n",
       "Ineq    2.2614113  223651.39   \n",
       "Prob   10.1595130  716718.24   \n",
       "Time    0.5867046  198041.34   "
      ]
     },
     "metadata": {},
     "output_type": "display_data"
    }
   ],
   "source": [
    "importance(random_forest_model)"
   ]
  },
  {
   "cell_type": "code",
   "execution_count": 52,
   "metadata": {},
   "outputs": [
    {
     "data": {
      "image/png": "[encoded data removed]",
      "text/plain": [
       "plot without title"
      ]
     },
     "metadata": {},
     "output_type": "display_data"
    }
   ],
   "source": [
    "varImpPlot(random_forest_model)"
   ]
  },
  {
   "cell_type": "markdown",
   "metadata": {},
   "source": [
    "### Q 10.2\n",
    "\n",
    "Describe a situation or problem from your job, everyday life, current events, etc., for which a logistic regression model would be appropriate. List some (up to 5) predictors that you might use."
   ]
  },
  {
   "cell_type": "markdown",
   "metadata": {},
   "source": [
    "My job involves predicting the quality of the grain by using different data points collected using the internet of things sensors. I need to use the grain condition such as initial weight, protein level, initial moisture, crushing results and possible storage time as input to the developed algorithms and detremine the silo location for the optimum storage periods."
   ]
  },
  {
   "cell_type": "markdown",
   "metadata": {},
   "source": [
    "### Q 10.3\n"
   ]
  },
  {
   "cell_type": "code",
   "execution_count": 6,
   "metadata": {},
   "outputs": [],
   "source": [
    "# Loading the data\n",
    "raw_data<-read.table('http://archive.ics.uci.edu/ml/machine-learning-databases/statlog/german/german.data', header = FALSE)"
   ]
  },
  {
   "cell_type": "code",
   "execution_count": 7,
   "metadata": {},
   "outputs": [
    {
     "data": {
      "text/html": [
       "<table>\n",
       "<thead><tr><th scope=col>V1</th><th scope=col>V2</th><th scope=col>V3</th><th scope=col>V4</th><th scope=col>V5</th><th scope=col>V6</th><th scope=col>V7</th><th scope=col>V8</th><th scope=col>V9</th><th scope=col>V10</th><th scope=col>...</th><th scope=col>V12</th><th scope=col>V13</th><th scope=col>V14</th><th scope=col>V15</th><th scope=col>V16</th><th scope=col>V17</th><th scope=col>V18</th><th scope=col>V19</th><th scope=col>V20</th><th scope=col>V21</th></tr></thead>\n",
       "<tbody>\n",
       "\t<tr><td>A11 </td><td> 6  </td><td>A34 </td><td>A43 </td><td>1169</td><td>A65 </td><td>A75 </td><td>4   </td><td>A93 </td><td>A101</td><td>... </td><td>A121</td><td>67  </td><td>A143</td><td>A152</td><td>2   </td><td>A173</td><td>1   </td><td>A192</td><td>A201</td><td>1   </td></tr>\n",
       "\t<tr><td>A12 </td><td>48  </td><td>A32 </td><td>A43 </td><td>5951</td><td>A61 </td><td>A73 </td><td>2   </td><td>A92 </td><td>A101</td><td>... </td><td>A121</td><td>22  </td><td>A143</td><td>A152</td><td>1   </td><td>A173</td><td>1   </td><td>A191</td><td>A201</td><td>2   </td></tr>\n",
       "\t<tr><td>A14 </td><td>12  </td><td>A34 </td><td>A46 </td><td>2096</td><td>A61 </td><td>A74 </td><td>2   </td><td>A93 </td><td>A101</td><td>... </td><td>A121</td><td>49  </td><td>A143</td><td>A152</td><td>1   </td><td>A172</td><td>2   </td><td>A191</td><td>A201</td><td>1   </td></tr>\n",
       "\t<tr><td>A11 </td><td>42  </td><td>A32 </td><td>A42 </td><td>7882</td><td>A61 </td><td>A74 </td><td>2   </td><td>A93 </td><td>A103</td><td>... </td><td>A122</td><td>45  </td><td>A143</td><td>A153</td><td>1   </td><td>A173</td><td>2   </td><td>A191</td><td>A201</td><td>1   </td></tr>\n",
       "\t<tr><td>A11 </td><td>24  </td><td>A33 </td><td>A40 </td><td>4870</td><td>A61 </td><td>A73 </td><td>3   </td><td>A93 </td><td>A101</td><td>... </td><td>A124</td><td>53  </td><td>A143</td><td>A153</td><td>2   </td><td>A173</td><td>2   </td><td>A191</td><td>A201</td><td>2   </td></tr>\n",
       "\t<tr><td>A14 </td><td>36  </td><td>A32 </td><td>A46 </td><td>9055</td><td>A65 </td><td>A73 </td><td>2   </td><td>A93 </td><td>A101</td><td>... </td><td>A124</td><td>35  </td><td>A143</td><td>A153</td><td>1   </td><td>A172</td><td>2   </td><td>A192</td><td>A201</td><td>1   </td></tr>\n",
       "</tbody>\n",
       "</table>\n"
      ],
      "text/latex": [
       "\\begin{tabular}{r|lllllllllllllllllllll}\n",
       " V1 & V2 & V3 & V4 & V5 & V6 & V7 & V8 & V9 & V10 & ... & V12 & V13 & V14 & V15 & V16 & V17 & V18 & V19 & V20 & V21\\\\\n",
       "\\hline\n",
       "\t A11  &  6   & A34  & A43  & 1169 & A65  & A75  & 4    & A93  & A101 & ...  & A121 & 67   & A143 & A152 & 2    & A173 & 1    & A192 & A201 & 1   \\\\\n",
       "\t A12  & 48   & A32  & A43  & 5951 & A61  & A73  & 2    & A92  & A101 & ...  & A121 & 22   & A143 & A152 & 1    & A173 & 1    & A191 & A201 & 2   \\\\\n",
       "\t A14  & 12   & A34  & A46  & 2096 & A61  & A74  & 2    & A93  & A101 & ...  & A121 & 49   & A143 & A152 & 1    & A172 & 2    & A191 & A201 & 1   \\\\\n",
       "\t A11  & 42   & A32  & A42  & 7882 & A61  & A74  & 2    & A93  & A103 & ...  & A122 & 45   & A143 & A153 & 1    & A173 & 2    & A191 & A201 & 1   \\\\\n",
       "\t A11  & 24   & A33  & A40  & 4870 & A61  & A73  & 3    & A93  & A101 & ...  & A124 & 53   & A143 & A153 & 2    & A173 & 2    & A191 & A201 & 2   \\\\\n",
       "\t A14  & 36   & A32  & A46  & 9055 & A65  & A73  & 2    & A93  & A101 & ...  & A124 & 35   & A143 & A153 & 1    & A172 & 2    & A192 & A201 & 1   \\\\\n",
       "\\end{tabular}\n"
      ],
      "text/markdown": [
       "\n",
       "| V1 | V2 | V3 | V4 | V5 | V6 | V7 | V8 | V9 | V10 | ... | V12 | V13 | V14 | V15 | V16 | V17 | V18 | V19 | V20 | V21 |\n",
       "|---|---|---|---|---|---|---|---|---|---|---|---|---|---|---|---|---|---|---|---|---|\n",
       "| A11  |  6   | A34  | A43  | 1169 | A65  | A75  | 4    | A93  | A101 | ...  | A121 | 67   | A143 | A152 | 2    | A173 | 1    | A192 | A201 | 1    |\n",
       "| A12  | 48   | A32  | A43  | 5951 | A61  | A73  | 2    | A92  | A101 | ...  | A121 | 22   | A143 | A152 | 1    | A173 | 1    | A191 | A201 | 2    |\n",
       "| A14  | 12   | A34  | A46  | 2096 | A61  | A74  | 2    | A93  | A101 | ...  | A121 | 49   | A143 | A152 | 1    | A172 | 2    | A191 | A201 | 1    |\n",
       "| A11  | 42   | A32  | A42  | 7882 | A61  | A74  | 2    | A93  | A103 | ...  | A122 | 45   | A143 | A153 | 1    | A173 | 2    | A191 | A201 | 1    |\n",
       "| A11  | 24   | A33  | A40  | 4870 | A61  | A73  | 3    | A93  | A101 | ...  | A124 | 53   | A143 | A153 | 2    | A173 | 2    | A191 | A201 | 2    |\n",
       "| A14  | 36   | A32  | A46  | 9055 | A65  | A73  | 2    | A93  | A101 | ...  | A124 | 35   | A143 | A153 | 1    | A172 | 2    | A192 | A201 | 1    |\n",
       "\n"
      ],
      "text/plain": [
       "  V1  V2 V3  V4  V5   V6  V7  V8 V9  V10  ... V12  V13 V14  V15  V16 V17  V18\n",
       "1 A11  6 A34 A43 1169 A65 A75 4  A93 A101 ... A121 67  A143 A152 2   A173 1  \n",
       "2 A12 48 A32 A43 5951 A61 A73 2  A92 A101 ... A121 22  A143 A152 1   A173 1  \n",
       "3 A14 12 A34 A46 2096 A61 A74 2  A93 A101 ... A121 49  A143 A152 1   A172 2  \n",
       "4 A11 42 A32 A42 7882 A61 A74 2  A93 A103 ... A122 45  A143 A153 1   A173 2  \n",
       "5 A11 24 A33 A40 4870 A61 A73 3  A93 A101 ... A124 53  A143 A153 2   A173 2  \n",
       "6 A14 36 A32 A46 9055 A65 A73 2  A93 A101 ... A124 35  A143 A153 1   A172 2  \n",
       "  V19  V20  V21\n",
       "1 A192 A201 1  \n",
       "2 A191 A201 2  \n",
       "3 A191 A201 1  \n",
       "4 A191 A201 1  \n",
       "5 A191 A201 2  \n",
       "6 A192 A201 1  "
      ]
     },
     "metadata": {},
     "output_type": "display_data"
    }
   ],
   "source": [
    "head(raw_data)"
   ]
  },
  {
   "cell_type": "code",
   "execution_count": 8,
   "metadata": {},
   "outputs": [],
   "source": [
    "#Setting the index value to 0 and 1 \n",
    "raw_data['V21'][raw_data['V21']==2]<-0"
   ]
  },
  {
   "cell_type": "code",
   "execution_count": 14,
   "metadata": {},
   "outputs": [],
   "source": [
    "# we need to divide the data into train and test before moving forward with the modelling part.\n",
    "\n",
    "data_sampling <- sample(1:nrow(raw_data), size = round(0.8*nrow(raw_data)))\n",
    "train_data <- raw_data[data_sampling,]\n",
    "test_data <- raw_data[-data_sampling,]"
   ]
  },
  {
   "cell_type": "code",
   "execution_count": 15,
   "metadata": {},
   "outputs": [
    {
     "data": {
      "text/plain": [
       "\n",
       "Call:\n",
       "glm(formula = V21 ~ ., family = binomial(link = \"logit\"), data = train_data)\n",
       "\n",
       "Deviance Residuals: \n",
       "    Min       1Q   Median       3Q      Max  \n",
       "-2.5756  -0.6508   0.3761   0.6724   1.9524  \n",
       "\n",
       "Coefficients:\n",
       "              Estimate Std. Error z value Pr(>|z|)    \n",
       "(Intercept) -1.091e+00  1.228e+00  -0.889 0.374213    \n",
       "V1A12        3.372e-01  2.557e-01   1.319 0.187234    \n",
       "V1A13        7.710e-01  4.078e-01   1.891 0.058666 .  \n",
       "V1A14        1.505e+00  2.616e-01   5.753 8.78e-09 ***\n",
       "V2          -2.933e-02  1.046e-02  -2.805 0.005036 ** \n",
       "V3A31        5.133e-02  6.155e-01   0.083 0.933537    \n",
       "V3A32        8.863e-01  4.745e-01   1.868 0.061767 .  \n",
       "V3A33        1.110e+00  5.145e-01   2.157 0.031041 *  \n",
       "V3A34        1.842e+00  5.030e-01   3.661 0.000251 ***\n",
       "V4A41        1.795e+00  4.506e-01   3.985 6.76e-05 ***\n",
       "V4A410       2.204e+00  9.724e-01   2.266 0.023435 *  \n",
       "V4A42        6.008e-01  3.003e-01   2.001 0.045402 *  \n",
       "V4A43        8.248e-01  2.840e-01   2.904 0.003679 ** \n",
       "V4A44        2.308e-01  9.043e-01   0.255 0.798560    \n",
       "V4A45        4.913e-02  6.177e-01   0.080 0.936606    \n",
       "V4A46       -6.830e-02  4.351e-01  -0.157 0.875258    \n",
       "V4A48        1.835e+00  1.282e+00   1.432 0.152281    \n",
       "V4A49        7.324e-01  3.933e-01   1.862 0.062573 .  \n",
       "V5          -1.156e-04  4.989e-05  -2.317 0.020502 *  \n",
       "V6A62        4.084e-01  3.284e-01   1.244 0.213546    \n",
       "V6A63        6.707e-01  4.777e-01   1.404 0.160365    \n",
       "V6A64        1.151e+00  6.002e-01   1.918 0.055131 .  \n",
       "V6A65        8.118e-01  2.938e-01   2.763 0.005719 ** \n",
       "V7A72        1.692e-01  4.921e-01   0.344 0.731043    \n",
       "V7A73        2.599e-01  4.729e-01   0.550 0.582531    \n",
       "V7A74        7.810e-01  5.111e-01   1.528 0.126458    \n",
       "V7A75        2.173e-01  4.750e-01   0.458 0.647278    \n",
       "V8          -3.653e-01  1.032e-01  -3.539 0.000401 ***\n",
       "V9A92        4.363e-01  4.504e-01   0.969 0.332668    \n",
       "V9A93        9.631e-01  4.396e-01   2.191 0.028442 *  \n",
       "V9A94        6.166e-01  5.300e-01   1.163 0.244696    \n",
       "V10A102     -6.676e-01  4.571e-01  -1.461 0.144151    \n",
       "V10A103      1.258e+00  5.176e-01   2.431 0.015074 *  \n",
       "V11          4.954e-02  9.822e-02   0.504 0.614041    \n",
       "V12A122     -2.287e-01  2.931e-01  -0.780 0.435283    \n",
       "V12A123     -4.659e-02  2.725e-01  -0.171 0.864238    \n",
       "V12A124     -7.011e-01  4.802e-01  -1.460 0.144283    \n",
       "V13          1.743e-02  1.053e-02   1.655 0.097997 .  \n",
       "V14A142      2.124e-02  4.576e-01   0.046 0.962974    \n",
       "V14A143      6.419e-01  2.737e-01   2.345 0.019021 *  \n",
       "V15A152      4.718e-01  2.722e-01   1.733 0.083078 .  \n",
       "V15A153      5.305e-01  5.341e-01   0.993 0.320564    \n",
       "V16         -1.955e-01  2.134e-01  -0.916 0.359782    \n",
       "V17A172     -5.084e-01  7.314e-01  -0.695 0.486990    \n",
       "V17A173     -4.146e-01  7.014e-01  -0.591 0.554433    \n",
       "V17A174     -3.067e-01  7.078e-01  -0.433 0.664753    \n",
       "V18         -2.569e-01  2.845e-01  -0.903 0.366581    \n",
       "V19A192      2.004e-01  2.298e-01   0.872 0.383230    \n",
       "V20A202      1.299e+00  7.148e-01   1.818 0.069092 .  \n",
       "---\n",
       "Signif. codes:  0 '***' 0.001 '**' 0.01 '*' 0.05 '.' 0.1 ' ' 1\n",
       "\n",
       "(Dispersion parameter for binomial family taken to be 1)\n",
       "\n",
       "    Null deviance: 961.65  on 799  degrees of freedom\n",
       "Residual deviance: 699.79  on 751  degrees of freedom\n",
       "AIC: 797.79\n",
       "\n",
       "Number of Fisher Scoring iterations: 5\n"
      ]
     },
     "metadata": {},
     "output_type": "display_data"
    }
   ],
   "source": [
    "#Modelling part based on the logistic regression\n",
    "\n",
    "machine_learning_model<- glm(formula=V21 ~.,family = binomial(link='logit'),data = train_data)\n",
    "summary(machine_learning_model)"
   ]
  },
  {
   "cell_type": "code",
   "execution_count": 19,
   "metadata": {},
   "outputs": [],
   "source": [
    "#This part will focus on the model prediction  \n",
    "\n",
    "logistic_model_prediction<-predict(object = machine_learning_model,data = test_data,type = 'response')\n",
    "# yhat1 <- as.integer(yhat_logit > 0.5)\n",
    "logistic_model_prediction_results<-as.integer(logistic_model_prediction > 0.5)"
   ]
  },
  {
   "cell_type": "code",
   "execution_count": 44,
   "metadata": {},
   "outputs": [
    {
     "data": {
      "text/plain": [
       "   \n",
       "      0   1\n",
       "  0  69   0\n",
       "  1   0 131"
      ]
     },
     "metadata": {},
     "output_type": "display_data"
    },
    {
     "ename": "ERROR",
     "evalue": "Error in table(test_data$V21, logistic_model_prediction_results): all arguments must have the same length\n",
     "output_type": "error",
     "traceback": [
      "Error in table(test_data$V21, logistic_model_prediction_results): all arguments must have the same length\nTraceback:\n",
      "1. table(test_data$V21, logistic_model_prediction_results)",
      "2. stop(\"all arguments must have the same length\")"
     ]
    }
   ],
   "source": [
    "# The confusion matrix is not created as for some reason the result of the prediction is not match with the size \n",
    "# of the data which we have entered.??\n",
    "table(test_data$V21,test_data$V21)\n",
    "table(test_data$V21,logistic_model_prediction_results)"
   ]
  },
  {
   "cell_type": "code",
   "execution_count": 46,
   "metadata": {},
   "outputs": [
    {
     "ename": "ERROR",
     "evalue": "Error in roc(test_data$V21, logistic_model_prediction_results): could not find function \"roc\"\n",
     "output_type": "error",
     "traceback": [
      "Error in roc(test_data$V21, logistic_model_prediction_results): could not find function \"roc\"\nTraceback:\n"
     ]
    }
   ],
   "source": [
    "# The functionality test can be applied as follows. ?? the size of the test_data and the prediction is not matched for some reason\n",
    "\n",
    "AUC<-roc(test_data$V21,logistic_model_prediction_results)"
   ]
  },
  {
   "cell_type": "code",
   "execution_count": null,
   "metadata": {},
   "outputs": [],
   "source": []
  },
  {
   "cell_type": "code",
   "execution_count": null,
   "metadata": {},
   "outputs": [],
   "source": []
  },
  {
   "cell_type": "code",
   "execution_count": null,
   "metadata": {},
   "outputs": [],
   "source": []
  },
  {
   "cell_type": "code",
   "execution_count": null,
   "metadata": {},
   "outputs": [],
   "source": []
  },
  {
   "cell_type": "code",
   "execution_count": null,
   "metadata": {},
   "outputs": [],
   "source": []
  }
 ],
 "metadata": {
  "kernelspec": {
   "display_name": "R",
   "language": "R",
   "name": "ir"
  },
  "language_info": {
   "codemirror_mode": "r",
   "file_extension": ".r",
   "mimetype": "text/x-r-source",
   "name": "R",
   "pygments_lexer": "r",
   "version": "3.6.1"
  }
 },
 "nbformat": 4,
 "nbformat_minor": 2
}
