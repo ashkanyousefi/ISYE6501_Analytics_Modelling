{
 "cells": [
  {
   "cell_type": "markdown",
   "metadata": {},
   "source": [
    "#### Q 5.1:\n",
    "Using crime data from the file uscrime.txt (http://www.statsci.org/data/general/uscrime.txt, description at http://www.statsci.org/data/general/uscrime.html), test to see whether there are any outliers in the last column (number of crimes per 100,000 people). Use the grubbs.test function in the outliers package in R."
   ]
  },
  {
   "cell_type": "code",
   "execution_count": 1,
   "metadata": {
    "scrolled": false
   },
   "outputs": [
    {
     "name": "stdout",
     "output_type": "stream",
     "text": [
      "package 'outliers' successfully unpacked and MD5 sums checked\n",
      "\n",
      "The downloaded binary packages are in\n",
      "\tC:\\Users\\ashka\\AppData\\Local\\Temp\\Rtmpm8FAzg\\downloaded_packages\n"
     ]
    },
    {
     "data": {
      "text/plain": [
       "\n",
       "\tGrubbs test for two opposite outliers\n",
       "\n",
       "data:  UScrime$Crime\n",
       "G = 4.26877, U = 0.78103, p-value = 1\n",
       "alternative hypothesis: 342 and 1993 are outliers\n"
      ]
     },
     "metadata": {},
     "output_type": "display_data"
    }
   ],
   "source": [
    "#Installing library\n",
    "install.packages('outliers')\n",
    "library(outliers)\n",
    "\n",
    "#Reading the US crime list\n",
    "UScrime <- read.delim(\"http://www.statsci.org/data/general/uscrime.txt\",header=T)\n",
    "\n",
    "#Apply the Grubbs test to the Crime column of the UScrime. I used type 11 to detect two outliers in the opposite sides of the \n",
    "grubbs.test(UScrime$Crime,type = 11)"
   ]
  },
  {
   "cell_type": "markdown",
   "metadata": {},
   "source": [
    "### Q6.1:\n",
    "Describe a situation or problem from your job, everyday life, current events, etc., for which a Change Detection model would be appropriate. Applying the CUSUM technique, how would you choose the critical value and the threshold?\n",
    "\n",
    "### Answer to Q6.1:\n",
    "I am working in a IoT solution for the agriculture tech industry and I am using anomaly detection for detecting the deterioraation of the agriculture products when the products are kept in the silo for a long time. The CUSUM algorithm can be used as one of the methods for detecting the deterioration of the agriculture products. The data source for the CUSUM could be the time series data which we receive from the IoT devices."
   ]
  },
  {
   "cell_type": "markdown",
   "metadata": {},
   "source": [
    "### Question 6.2_1\n",
    "Using July through October daily-high-temperature data for `Atlanta` for 1996 through 2015, use a CUSUM approach to identify when unofficial summer ends (i.e., when the weather starts cooling off) each year. You can get the data that you need from the file temps.txt or online, for example at http://www.iweathernet.com/atlanta-weather-records or https://www.wunderground.com/history/airport/KFTY/2015/7/1/CustomHistory.html . You can use R if you’d like, but it’s straightforward enough that an Excel spreadsheet can easily do the job too."
   ]
  },
  {
   "cell_type": "code",
   "execution_count": 2,
   "metadata": {},
   "outputs": [],
   "source": [
    "Data_History <- read.delim(file = \"C:/Users/ashka/Dropbox/GitHub/ISYE6501_Analytics_Modelling/HW3/temps.txt\",header = T)"
   ]
  },
  {
   "cell_type": "code",
   "execution_count": 3,
   "metadata": {},
   "outputs": [],
   "source": [
    "Data_Average <- rowMeans(x = Data_History[c(2:length(Data_History))])"
   ]
  },
  {
   "cell_type": "code",
   "execution_count": 4,
   "metadata": {},
   "outputs": [],
   "source": [
    "#Calculate the mean of the total Data average\n",
    "Data_Mean<- mean(Data_Average)\n",
    "#One comparison index could be the difference between the \n",
    "Data_Deviation<-Data_Average-Data_Mean\n",
    "#A constant can be selected to check the threshold we are going to consider \n",
    "# for the CUSUM method\n",
    "C<-5\n",
    "Data_Deviation_C<-Data_Deviation-C\n"
   ]
  },
  {
   "cell_type": "code",
   "execution_count": 5,
   "metadata": {},
   "outputs": [],
   "source": [
    "Temp_Vector<-0*Data_Deviation_C\n",
    "Cusum<-append(Temp_Vector,0)"
   ]
  },
  {
   "cell_type": "code",
   "execution_count": 12,
   "metadata": {},
   "outputs": [],
   "source": [
    "# The following code goes through the calculated values in the \n",
    "# previous section and builds the CUSUM\n",
    "\n",
    "\n",
    "for (i in 2:length(Data_Deviation_C))\n",
    "{\n",
    "    Temp<-Cusum[i]+Data_Deviation_C[i]    \n",
    "    ifelse(Temp>0,Cusum[i+1]<-Temp,Cusum[i+1]<-0)\n",
    "}"
   ]
  },
  {
   "cell_type": "code",
   "execution_count": 7,
   "metadata": {},
   "outputs": [
    {
     "data": {
      "image/png": "[encoded data removed]",
      "text/plain": [
       "plot without title"
      ]
     },
     "metadata": {},
     "output_type": "display_data"
    }
   ],
   "source": [
    "plot(Cusum)"
   ]
  },
  {
   "cell_type": "code",
   "execution_count": 8,
   "metadata": {},
   "outputs": [],
   "source": [
    "#The following code finds the index of the maximum Cusum\n",
    "Summer_Index<-match(max(Cusum),Cusum)\n",
    "Summer_Ends<-Data_History$DAY[Summer_Index]"
   ]
  },
  {
   "cell_type": "code",
   "execution_count": 9,
   "metadata": {
    "scrolled": true
   },
   "outputs": [
    {
     "name": "stdout",
     "output_type": "stream",
     "text": [
      "[1] 24-Aug\n",
      "123 Levels: 1-Aug 1-Jul 1-Oct 1-Sep 10-Aug 10-Jul 10-Oct 10-Sep ... 9-Sep\n"
     ]
    }
   ],
   "source": [
    "print(Summer_Ends)"
   ]
  },
  {
   "cell_type": "markdown",
   "metadata": {},
   "source": [
    "### Q6.2_2:\n",
    "Use a CUSUM approach to make a judgment of whether Atlanta’s summer climate has gotten warmer in that time (and if so, when).\n"
   ]
  },
  {
   "cell_type": "code",
   "execution_count": 10,
   "metadata": {},
   "outputs": [],
   "source": [
    "AUG_Data<-0*(length(Data_History[55,])-1)\n",
    "                   \n",
    "for (i in 2:length(Data_History[55,]))\n",
    "    {\n",
    "    AUG_Data[i]<-Data_History[55,i]\n",
    "}\n"
   ]
  },
  {
   "cell_type": "code",
   "execution_count": 11,
   "metadata": {},
   "outputs": [
    {
     "data": {
      "image/png": "[encoded data removed]",
      "text/plain": [
       "plot without title"
      ]
     },
     "metadata": {},
     "output_type": "display_data"
    }
   ],
   "source": [
    "plot(AUG_Data)"
   ]
  },
  {
   "cell_type": "markdown",
   "metadata": {},
   "source": [
    "The above figure does not show a consistent change in the temprature from 1996 to 2015.Considering the applied analysis, I can not consider that the calculated dummer end date is becoming warmer from 1996 to 2015."
   ]
  }
 ],
 "metadata": {
  "kernelspec": {
   "display_name": "R",
   "language": "R",
   "name": "ir"
  },
  "language_info": {
   "codemirror_mode": "r",
   "file_extension": ".r",
   "mimetype": "text/x-r-source",
   "name": "R",
   "pygments_lexer": "r",
   "version": "3.6.1"
  }
 },
 "nbformat": 4,
 "nbformat_minor": 2
}
