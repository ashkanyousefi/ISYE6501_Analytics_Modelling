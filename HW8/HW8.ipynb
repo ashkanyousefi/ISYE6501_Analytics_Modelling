{
 "cells": [
  {
   "cell_type": "code",
   "execution_count": 1,
   "metadata": {},
   "outputs": [
    {
     "name": "stdout",
     "output_type": "stream",
     "text": [
      "package 'leaps' successfully unpacked and MD5 sums checked\n",
      "\n",
      "The downloaded binary packages are in\n",
      "\tC:\\Users\\ashka\\AppData\\Local\\Temp\\RtmpkFu7iv\\downloaded_packages\n"
     ]
    }
   ],
   "source": [
    "install.packages('leaps')"
   ]
  },
  {
   "cell_type": "code",
   "execution_count": 2,
   "metadata": {},
   "outputs": [
    {
     "name": "stderr",
     "output_type": "stream",
     "text": [
      "Loading required package: lattice\n",
      "Loading required package: ggplot2\n",
      "Registered S3 methods overwritten by 'ggplot2':\n",
      "  method         from \n",
      "  [.quosures     rlang\n",
      "  c.quosures     rlang\n",
      "  print.quosures rlang\n",
      "Loading required package: Matrix\n",
      "Loading required package: foreach\n",
      "Loaded glmnet 2.0-16\n",
      "\n"
     ]
    }
   ],
   "source": [
    "library(caret)\n",
    "library(leaps)\n",
    "library(MASS)\n",
    "library(glmnet)"
   ]
  },
  {
   "cell_type": "code",
   "execution_count": 3,
   "metadata": {},
   "outputs": [],
   "source": [
    "raw_data<-read.table(file = './uscrime.txt',header = TRUE)"
   ]
  },
  {
   "cell_type": "code",
   "execution_count": 4,
   "metadata": {},
   "outputs": [],
   "source": [
    "#It is necessary to scale the data as mentioned also in the lecture to optimize the coeffiect range\n",
    "\n",
    "remove_points <- c(\"So\",\"Crime\")\n",
    "data_remove_points<-raw_data[, !(names(raw_data) %in% remove_points)]\n",
    "scaled_data_removed<-scale(data_remove_points)\n",
    "scaled_data<-cbind(scaled_data_removed,raw_data[,remove_points])\n"
   ]
  },
  {
   "cell_type": "code",
   "execution_count": 5,
   "metadata": {},
   "outputs": [],
   "source": [
    "# The step wise regression is implemented here:\n",
    "# The range of features is tried to find the optimum model\n",
    "\n",
    "\n",
    "control_variable <- trainControl(method = \"repeatedcv\", number = 5, repeats = 5)\n",
    "\n",
    "step_wise_model <- train(Crime ~., data = scaled_data, method = \"leapSeq\",tuneGrid = data.frame(nvmax = 1:15), trControl = control_variable)\n"
   ]
  },
  {
   "cell_type": "code",
   "execution_count": 6,
   "metadata": {},
   "outputs": [
    {
     "data": {
      "text/html": [
       "<table>\n",
       "<thead><tr><th scope=col>nvmax</th><th scope=col>RMSE</th><th scope=col>Rsquared</th><th scope=col>MAE</th><th scope=col>RMSESD</th><th scope=col>RsquaredSD</th><th scope=col>MAESD</th></tr></thead>\n",
       "<tbody>\n",
       "\t<tr><td> 1       </td><td>291.5779 </td><td>0.5227764</td><td>230.8915 </td><td>80.52834 </td><td>0.2889516</td><td>74.80276 </td></tr>\n",
       "\t<tr><td> 2       </td><td>308.1104 </td><td>0.4503600</td><td>238.4573 </td><td>93.82773 </td><td>0.3121311</td><td>71.89600 </td></tr>\n",
       "\t<tr><td> 3       </td><td>265.5925 </td><td>0.5740250</td><td>209.2237 </td><td>77.24358 </td><td>0.2716775</td><td>68.41373 </td></tr>\n",
       "\t<tr><td> 4       </td><td>285.1170 </td><td>0.5081315</td><td>221.7260 </td><td>61.58699 </td><td>0.2441184</td><td>48.16886 </td></tr>\n",
       "\t<tr><td> 5       </td><td>276.3819 </td><td>0.5224353</td><td>222.6152 </td><td>77.18560 </td><td>0.2469174</td><td>62.99584 </td></tr>\n",
       "\t<tr><td> 6       </td><td>246.7716 </td><td>0.5991393</td><td>193.8343 </td><td>60.97895 </td><td>0.2226581</td><td>50.10355 </td></tr>\n",
       "\t<tr><td> 7       </td><td>272.6054 </td><td>0.5435213</td><td>220.7917 </td><td>59.79278 </td><td>0.2280076</td><td>49.79663 </td></tr>\n",
       "\t<tr><td> 8       </td><td>280.2471 </td><td>0.5340670</td><td>229.3941 </td><td>61.54290 </td><td>0.2449292</td><td>51.32562 </td></tr>\n",
       "\t<tr><td> 9       </td><td>301.7002 </td><td>0.4500372</td><td>240.6683 </td><td>65.08583 </td><td>0.2498655</td><td>57.50237 </td></tr>\n",
       "\t<tr><td>10       </td><td>286.1816 </td><td>0.5202469</td><td>236.0677 </td><td>54.98126 </td><td>0.2345198</td><td>48.36711 </td></tr>\n",
       "\t<tr><td>11       </td><td>289.8436 </td><td>0.5142951</td><td>234.0024 </td><td>52.93549 </td><td>0.2307848</td><td>45.59564 </td></tr>\n",
       "\t<tr><td>12       </td><td>290.2612 </td><td>0.5073331</td><td>234.4481 </td><td>54.11271 </td><td>0.2037706</td><td>44.13606 </td></tr>\n",
       "\t<tr><td>13       </td><td>281.5523 </td><td>0.5313749</td><td>226.9553 </td><td>49.46382 </td><td>0.2164079</td><td>41.29760 </td></tr>\n",
       "\t<tr><td>14       </td><td>279.3022 </td><td>0.5386282</td><td>225.1971 </td><td>47.90591 </td><td>0.2026085</td><td>36.52641 </td></tr>\n",
       "\t<tr><td>15       </td><td>291.6086 </td><td>0.5022123</td><td>235.3427 </td><td>47.57263 </td><td>0.2122186</td><td>37.83192 </td></tr>\n",
       "</tbody>\n",
       "</table>\n"
      ],
      "text/latex": [
       "\\begin{tabular}{r|lllllll}\n",
       " nvmax & RMSE & Rsquared & MAE & RMSESD & RsquaredSD & MAESD\\\\\n",
       "\\hline\n",
       "\t  1        & 291.5779  & 0.5227764 & 230.8915  & 80.52834  & 0.2889516 & 74.80276 \\\\\n",
       "\t  2        & 308.1104  & 0.4503600 & 238.4573  & 93.82773  & 0.3121311 & 71.89600 \\\\\n",
       "\t  3        & 265.5925  & 0.5740250 & 209.2237  & 77.24358  & 0.2716775 & 68.41373 \\\\\n",
       "\t  4        & 285.1170  & 0.5081315 & 221.7260  & 61.58699  & 0.2441184 & 48.16886 \\\\\n",
       "\t  5        & 276.3819  & 0.5224353 & 222.6152  & 77.18560  & 0.2469174 & 62.99584 \\\\\n",
       "\t  6        & 246.7716  & 0.5991393 & 193.8343  & 60.97895  & 0.2226581 & 50.10355 \\\\\n",
       "\t  7        & 272.6054  & 0.5435213 & 220.7917  & 59.79278  & 0.2280076 & 49.79663 \\\\\n",
       "\t  8        & 280.2471  & 0.5340670 & 229.3941  & 61.54290  & 0.2449292 & 51.32562 \\\\\n",
       "\t  9        & 301.7002  & 0.4500372 & 240.6683  & 65.08583  & 0.2498655 & 57.50237 \\\\\n",
       "\t 10        & 286.1816  & 0.5202469 & 236.0677  & 54.98126  & 0.2345198 & 48.36711 \\\\\n",
       "\t 11        & 289.8436  & 0.5142951 & 234.0024  & 52.93549  & 0.2307848 & 45.59564 \\\\\n",
       "\t 12        & 290.2612  & 0.5073331 & 234.4481  & 54.11271  & 0.2037706 & 44.13606 \\\\\n",
       "\t 13        & 281.5523  & 0.5313749 & 226.9553  & 49.46382  & 0.2164079 & 41.29760 \\\\\n",
       "\t 14        & 279.3022  & 0.5386282 & 225.1971  & 47.90591  & 0.2026085 & 36.52641 \\\\\n",
       "\t 15        & 291.6086  & 0.5022123 & 235.3427  & 47.57263  & 0.2122186 & 37.83192 \\\\\n",
       "\\end{tabular}\n"
      ],
      "text/markdown": [
       "\n",
       "| nvmax | RMSE | Rsquared | MAE | RMSESD | RsquaredSD | MAESD |\n",
       "|---|---|---|---|---|---|---|\n",
       "|  1        | 291.5779  | 0.5227764 | 230.8915  | 80.52834  | 0.2889516 | 74.80276  |\n",
       "|  2        | 308.1104  | 0.4503600 | 238.4573  | 93.82773  | 0.3121311 | 71.89600  |\n",
       "|  3        | 265.5925  | 0.5740250 | 209.2237  | 77.24358  | 0.2716775 | 68.41373  |\n",
       "|  4        | 285.1170  | 0.5081315 | 221.7260  | 61.58699  | 0.2441184 | 48.16886  |\n",
       "|  5        | 276.3819  | 0.5224353 | 222.6152  | 77.18560  | 0.2469174 | 62.99584  |\n",
       "|  6        | 246.7716  | 0.5991393 | 193.8343  | 60.97895  | 0.2226581 | 50.10355  |\n",
       "|  7        | 272.6054  | 0.5435213 | 220.7917  | 59.79278  | 0.2280076 | 49.79663  |\n",
       "|  8        | 280.2471  | 0.5340670 | 229.3941  | 61.54290  | 0.2449292 | 51.32562  |\n",
       "|  9        | 301.7002  | 0.4500372 | 240.6683  | 65.08583  | 0.2498655 | 57.50237  |\n",
       "| 10        | 286.1816  | 0.5202469 | 236.0677  | 54.98126  | 0.2345198 | 48.36711  |\n",
       "| 11        | 289.8436  | 0.5142951 | 234.0024  | 52.93549  | 0.2307848 | 45.59564  |\n",
       "| 12        | 290.2612  | 0.5073331 | 234.4481  | 54.11271  | 0.2037706 | 44.13606  |\n",
       "| 13        | 281.5523  | 0.5313749 | 226.9553  | 49.46382  | 0.2164079 | 41.29760  |\n",
       "| 14        | 279.3022  | 0.5386282 | 225.1971  | 47.90591  | 0.2026085 | 36.52641  |\n",
       "| 15        | 291.6086  | 0.5022123 | 235.3427  | 47.57263  | 0.2122186 | 37.83192  |\n",
       "\n"
      ],
      "text/plain": [
       "   nvmax RMSE     Rsquared  MAE      RMSESD   RsquaredSD MAESD   \n",
       "1   1    291.5779 0.5227764 230.8915 80.52834 0.2889516  74.80276\n",
       "2   2    308.1104 0.4503600 238.4573 93.82773 0.3121311  71.89600\n",
       "3   3    265.5925 0.5740250 209.2237 77.24358 0.2716775  68.41373\n",
       "4   4    285.1170 0.5081315 221.7260 61.58699 0.2441184  48.16886\n",
       "5   5    276.3819 0.5224353 222.6152 77.18560 0.2469174  62.99584\n",
       "6   6    246.7716 0.5991393 193.8343 60.97895 0.2226581  50.10355\n",
       "7   7    272.6054 0.5435213 220.7917 59.79278 0.2280076  49.79663\n",
       "8   8    280.2471 0.5340670 229.3941 61.54290 0.2449292  51.32562\n",
       "9   9    301.7002 0.4500372 240.6683 65.08583 0.2498655  57.50237\n",
       "10 10    286.1816 0.5202469 236.0677 54.98126 0.2345198  48.36711\n",
       "11 11    289.8436 0.5142951 234.0024 52.93549 0.2307848  45.59564\n",
       "12 12    290.2612 0.5073331 234.4481 54.11271 0.2037706  44.13606\n",
       "13 13    281.5523 0.5313749 226.9553 49.46382 0.2164079  41.29760\n",
       "14 14    279.3022 0.5386282 225.1971 47.90591 0.2026085  36.52641\n",
       "15 15    291.6086 0.5022123 235.3427 47.57263 0.2122186  37.83192"
      ]
     },
     "metadata": {},
     "output_type": "display_data"
    }
   ],
   "source": [
    "step_wise_model$results"
   ]
  },
  {
   "cell_type": "code",
   "execution_count": 7,
   "metadata": {},
   "outputs": [
    {
     "data": {
      "text/plain": [
       "Subset selection object\n",
       "15 Variables  (and intercept)\n",
       "       Forced in Forced out\n",
       "M          FALSE      FALSE\n",
       "Ed         FALSE      FALSE\n",
       "Po1        FALSE      FALSE\n",
       "Po2        FALSE      FALSE\n",
       "LF         FALSE      FALSE\n",
       "M.F        FALSE      FALSE\n",
       "Pop        FALSE      FALSE\n",
       "NW         FALSE      FALSE\n",
       "U1         FALSE      FALSE\n",
       "U2         FALSE      FALSE\n",
       "Wealth     FALSE      FALSE\n",
       "Ineq       FALSE      FALSE\n",
       "Prob       FALSE      FALSE\n",
       "Time       FALSE      FALSE\n",
       "So         FALSE      FALSE\n",
       "1 subsets of each size up to 6\n",
       "Selection Algorithm: 'sequential replacement'\n",
       "         M   Ed  Po1 Po2 LF  M.F Pop NW  U1  U2  Wealth Ineq Prob Time So \n",
       "1  ( 1 ) \" \" \" \" \"*\" \" \" \" \" \" \" \" \" \" \" \" \" \" \" \" \"    \" \"  \" \"  \" \"  \" \"\n",
       "2  ( 1 ) \" \" \" \" \"*\" \" \" \" \" \" \" \" \" \" \" \" \" \" \" \" \"    \"*\"  \" \"  \" \"  \" \"\n",
       "3  ( 1 ) \" \" \"*\" \"*\" \" \" \" \" \" \" \" \" \" \" \" \" \" \" \" \"    \"*\"  \" \"  \" \"  \" \"\n",
       "4  ( 1 ) \"*\" \"*\" \"*\" \"*\" \" \" \" \" \" \" \" \" \" \" \" \" \" \"    \" \"  \" \"  \" \"  \" \"\n",
       "5  ( 1 ) \"*\" \"*\" \"*\" \" \" \" \" \" \" \" \" \" \" \" \" \" \" \" \"    \"*\"  \"*\"  \" \"  \" \"\n",
       "6  ( 1 ) \"*\" \"*\" \"*\" \" \" \" \" \" \" \" \" \" \" \" \" \"*\" \" \"    \"*\"  \"*\"  \" \"  \" \""
      ]
     },
     "metadata": {},
     "output_type": "display_data"
    }
   ],
   "source": [
    "summary(step_wise_model)"
   ]
  },
  {
   "cell_type": "code",
   "execution_count": 8,
   "metadata": {},
   "outputs": [],
   "source": [
    "#After investigating which features are selected by the step_wise\n",
    "#It is possible to built a linear regression based on the selected factors\n",
    "linear_regression_model<-lm(formula = Crime ~ M+So+Ed + Po1 , data = scaled_data)"
   ]
  },
  {
   "cell_type": "code",
   "execution_count": 9,
   "metadata": {},
   "outputs": [
    {
     "data": {
      "text/plain": [
       "\n",
       "Call:\n",
       "lm(formula = Crime ~ M + So + Ed + Po1, data = scaled_data)\n",
       "\n",
       "Coefficients:\n",
       "(Intercept)            M           So           Ed          Po1  \n",
       "     855.90       132.78       144.49        92.05       314.42  \n"
      ]
     },
     "metadata": {},
     "output_type": "display_data"
    }
   ],
   "source": [
    "linear_regression_model"
   ]
  },
  {
   "cell_type": "markdown",
   "metadata": {},
   "source": [
    "### Lasso Regression"
   ]
  },
  {
   "cell_type": "code",
   "execution_count": 10,
   "metadata": {},
   "outputs": [
    {
     "data": {
      "text/html": [
       "<table>\n",
       "<thead><tr><th scope=col>M</th><th scope=col>Ed</th><th scope=col>Po1</th><th scope=col>Po2</th><th scope=col>LF</th><th scope=col>M.F</th><th scope=col>Pop</th><th scope=col>NW</th><th scope=col>U1</th><th scope=col>U2</th><th scope=col>Wealth</th><th scope=col>Ineq</th><th scope=col>Prob</th><th scope=col>Time</th><th scope=col>So</th><th scope=col>Crime</th></tr></thead>\n",
       "<tbody>\n",
       "\t<tr><td> 0.9886930  </td><td>-1.3085099  </td><td>-0.9085105  </td><td>-0.8666988  </td><td>-1.2667456  </td><td>-1.12060499 </td><td>-0.09500679 </td><td> 1.943738564</td><td> 0.69510600 </td><td> 0.8313680  </td><td>-1.3616094  </td><td> 1.6793638  </td><td> 1.6497631  </td><td>-0.05599367 </td><td>1           </td><td> 791        </td></tr>\n",
       "\t<tr><td> 0.3521372  </td><td> 0.6580587  </td><td> 0.6056737  </td><td> 0.5280852  </td><td> 0.5396568  </td><td> 0.98341752 </td><td>-0.62033844 </td><td> 0.008483424</td><td> 0.02950365 </td><td> 0.2393332  </td><td> 0.3276683  </td><td> 0.0000000  </td><td>-0.7693365  </td><td>-0.18315796 </td><td>0           </td><td>1635        </td></tr>\n",
       "\t<tr><td> 0.2725678  </td><td>-1.4872888  </td><td>-1.3459415  </td><td>-1.2958632  </td><td>-0.6976051  </td><td>-0.47582390 </td><td>-0.48900552 </td><td> 1.146296747</td><td>-0.08143007 </td><td>-0.1158877  </td><td>-2.1492481  </td><td> 1.4036474  </td><td> 1.5969416  </td><td>-0.32416470 </td><td>1           </td><td> 578        </td></tr>\n",
       "\t<tr><td>-0.2048491  </td><td> 1.3731746  </td><td> 2.1535064  </td><td> 2.1732150  </td><td> 0.3911854  </td><td> 0.37257228 </td><td> 3.16204944 </td><td>-0.205464381</td><td> 0.36230482 </td><td> 0.5945541  </td><td> 1.5298536  </td><td>-0.6767585  </td><td>-1.3761895  </td><td> 0.46611085 </td><td>0           </td><td>1969        </td></tr>\n",
       "\t<tr><td> 0.1929983  </td><td> 1.3731746  </td><td> 0.8075649  </td><td> 0.7426673  </td><td> 0.7376187  </td><td> 0.06714965 </td><td>-0.48900552 </td><td>-0.691709391</td><td>-0.24783066 </td><td>-1.6551781  </td><td> 0.5453053  </td><td>-0.5013026  </td><td>-0.2503580  </td><td>-0.74759413 </td><td>0           </td><td>1234        </td></tr>\n",
       "\t<tr><td>-1.3983912  </td><td> 0.3898903  </td><td> 1.1104017  </td><td> 1.2433590  </td><td>-0.3511718  </td><td>-0.64550313 </td><td>-0.30513945 </td><td>-0.555560788</td><td>-0.63609870 </td><td>-0.5895155  </td><td> 1.6956723  </td><td>-1.7044289  </td><td>-0.5669349  </td><td>-0.78996812 </td><td>0           </td><td> 682        </td></tr>\n",
       "</tbody>\n",
       "</table>\n"
      ],
      "text/latex": [
       "\\begin{tabular}{r|llllllllllllllll}\n",
       " M & Ed & Po1 & Po2 & LF & M.F & Pop & NW & U1 & U2 & Wealth & Ineq & Prob & Time & So & Crime\\\\\n",
       "\\hline\n",
       "\t  0.9886930   & -1.3085099   & -0.9085105   & -0.8666988   & -1.2667456   & -1.12060499  & -0.09500679  &  1.943738564 &  0.69510600  &  0.8313680   & -1.3616094   &  1.6793638   &  1.6497631   & -0.05599367  & 1            &  791        \\\\\n",
       "\t  0.3521372   &  0.6580587   &  0.6056737   &  0.5280852   &  0.5396568   &  0.98341752  & -0.62033844  &  0.008483424 &  0.02950365  &  0.2393332   &  0.3276683   &  0.0000000   & -0.7693365   & -0.18315796  & 0            & 1635        \\\\\n",
       "\t  0.2725678   & -1.4872888   & -1.3459415   & -1.2958632   & -0.6976051   & -0.47582390  & -0.48900552  &  1.146296747 & -0.08143007  & -0.1158877   & -2.1492481   &  1.4036474   &  1.5969416   & -0.32416470  & 1            &  578        \\\\\n",
       "\t -0.2048491   &  1.3731746   &  2.1535064   &  2.1732150   &  0.3911854   &  0.37257228  &  3.16204944  & -0.205464381 &  0.36230482  &  0.5945541   &  1.5298536   & -0.6767585   & -1.3761895   &  0.46611085  & 0            & 1969        \\\\\n",
       "\t  0.1929983   &  1.3731746   &  0.8075649   &  0.7426673   &  0.7376187   &  0.06714965  & -0.48900552  & -0.691709391 & -0.24783066  & -1.6551781   &  0.5453053   & -0.5013026   & -0.2503580   & -0.74759413  & 0            & 1234        \\\\\n",
       "\t -1.3983912   &  0.3898903   &  1.1104017   &  1.2433590   & -0.3511718   & -0.64550313  & -0.30513945  & -0.555560788 & -0.63609870  & -0.5895155   &  1.6956723   & -1.7044289   & -0.5669349   & -0.78996812  & 0            &  682        \\\\\n",
       "\\end{tabular}\n"
      ],
      "text/markdown": [
       "\n",
       "| M | Ed | Po1 | Po2 | LF | M.F | Pop | NW | U1 | U2 | Wealth | Ineq | Prob | Time | So | Crime |\n",
       "|---|---|---|---|---|---|---|---|---|---|---|---|---|---|---|---|\n",
       "|  0.9886930   | -1.3085099   | -0.9085105   | -0.8666988   | -1.2667456   | -1.12060499  | -0.09500679  |  1.943738564 |  0.69510600  |  0.8313680   | -1.3616094   |  1.6793638   |  1.6497631   | -0.05599367  | 1            |  791         |\n",
       "|  0.3521372   |  0.6580587   |  0.6056737   |  0.5280852   |  0.5396568   |  0.98341752  | -0.62033844  |  0.008483424 |  0.02950365  |  0.2393332   |  0.3276683   |  0.0000000   | -0.7693365   | -0.18315796  | 0            | 1635         |\n",
       "|  0.2725678   | -1.4872888   | -1.3459415   | -1.2958632   | -0.6976051   | -0.47582390  | -0.48900552  |  1.146296747 | -0.08143007  | -0.1158877   | -2.1492481   |  1.4036474   |  1.5969416   | -0.32416470  | 1            |  578         |\n",
       "| -0.2048491   |  1.3731746   |  2.1535064   |  2.1732150   |  0.3911854   |  0.37257228  |  3.16204944  | -0.205464381 |  0.36230482  |  0.5945541   |  1.5298536   | -0.6767585   | -1.3761895   |  0.46611085  | 0            | 1969         |\n",
       "|  0.1929983   |  1.3731746   |  0.8075649   |  0.7426673   |  0.7376187   |  0.06714965  | -0.48900552  | -0.691709391 | -0.24783066  | -1.6551781   |  0.5453053   | -0.5013026   | -0.2503580   | -0.74759413  | 0            | 1234         |\n",
       "| -1.3983912   |  0.3898903   |  1.1104017   |  1.2433590   | -0.3511718   | -0.64550313  | -0.30513945  | -0.555560788 | -0.63609870  | -0.5895155   |  1.6956723   | -1.7044289   | -0.5669349   | -0.78996812  | 0            |  682         |\n",
       "\n"
      ],
      "text/plain": [
       "  M          Ed         Po1        Po2        LF         M.F        \n",
       "1  0.9886930 -1.3085099 -0.9085105 -0.8666988 -1.2667456 -1.12060499\n",
       "2  0.3521372  0.6580587  0.6056737  0.5280852  0.5396568  0.98341752\n",
       "3  0.2725678 -1.4872888 -1.3459415 -1.2958632 -0.6976051 -0.47582390\n",
       "4 -0.2048491  1.3731746  2.1535064  2.1732150  0.3911854  0.37257228\n",
       "5  0.1929983  1.3731746  0.8075649  0.7426673  0.7376187  0.06714965\n",
       "6 -1.3983912  0.3898903  1.1104017  1.2433590 -0.3511718 -0.64550313\n",
       "  Pop         NW           U1          U2         Wealth     Ineq      \n",
       "1 -0.09500679  1.943738564  0.69510600  0.8313680 -1.3616094  1.6793638\n",
       "2 -0.62033844  0.008483424  0.02950365  0.2393332  0.3276683  0.0000000\n",
       "3 -0.48900552  1.146296747 -0.08143007 -0.1158877 -2.1492481  1.4036474\n",
       "4  3.16204944 -0.205464381  0.36230482  0.5945541  1.5298536 -0.6767585\n",
       "5 -0.48900552 -0.691709391 -0.24783066 -1.6551781  0.5453053 -0.5013026\n",
       "6 -0.30513945 -0.555560788 -0.63609870 -0.5895155  1.6956723 -1.7044289\n",
       "  Prob       Time        So Crime\n",
       "1  1.6497631 -0.05599367 1   791 \n",
       "2 -0.7693365 -0.18315796 0  1635 \n",
       "3  1.5969416 -0.32416470 1   578 \n",
       "4 -1.3761895  0.46611085 0  1969 \n",
       "5 -0.2503580 -0.74759413 0  1234 \n",
       "6 -0.5669349 -0.78996812 0   682 "
      ]
     },
     "metadata": {},
     "output_type": "display_data"
    }
   ],
   "source": [
    "# The following developed data set will be used for the Lasso Regression \n",
    "head(scaled_data)"
   ]
  },
  {
   "cell_type": "code",
   "execution_count": 11,
   "metadata": {},
   "outputs": [],
   "source": [
    "# The Lasso model will be developed in the following:\n",
    "\n",
    "lasso_model = cv.glmnet(x = as.matrix(scaled_data[,-16]),\n",
    "                        y = as.matrix(scaled_data$Crime),\n",
    "                        alpha = 1, nfolds = 5,\n",
    "                        type.measure = \"mse\", family = \"gaussian\", standardize = F)"
   ]
  },
  {
   "cell_type": "code",
   "execution_count": 12,
   "metadata": {},
   "outputs": [
    {
     "data": {
      "text/plain": [
       "16 x 1 sparse Matrix of class \"dgCMatrix\"\n",
       "                    1\n",
       "(Intercept) 905.08511\n",
       "M            87.38594\n",
       "Ed          123.07830\n",
       "Po1         308.82944\n",
       "Po2           .      \n",
       "LF            .      \n",
       "M.F          52.10363\n",
       "Pop           .      \n",
       "NW           11.13820\n",
       "U1          -28.85703\n",
       "U2           62.03082\n",
       "Wealth        .      \n",
       "Ineq        187.18594\n",
       "Prob        -77.09109\n",
       "Time          .      \n",
       "So            .      "
      ]
     },
     "metadata": {},
     "output_type": "display_data"
    }
   ],
   "source": [
    "#The summary of the lasso model is presented in the following:\n",
    "\n",
    "coef(lasso_model, s = lasso_model$lambda.min)"
   ]
  },
  {
   "cell_type": "code",
   "execution_count": 13,
   "metadata": {},
   "outputs": [],
   "source": [
    "# Regression model for the lasso will be presented in the following:\n",
    "lasso_linear_model <- lm(Crime ~ M + Ed + Po1 + M.F + NW + U1 + U2 + Ineq + Prob, data = scaled_data)"
   ]
  },
  {
   "cell_type": "code",
   "execution_count": 14,
   "metadata": {},
   "outputs": [
    {
     "data": {
      "text/plain": [
       "\n",
       "Call:\n",
       "lm(formula = Crime ~ M + Ed + Po1 + M.F + NW + U1 + U2 + Ineq + \n",
       "    Prob, data = scaled_data)\n",
       "\n",
       "Residuals:\n",
       "   Min     1Q Median     3Q    Max \n",
       "-439.2 -102.2   -6.3  124.1  476.6 \n",
       "\n",
       "Coefficients:\n",
       "            Estimate Std. Error t value Pr(>|t|)    \n",
       "(Intercept)   905.09      28.87  31.352  < 2e-16 ***\n",
       "M             111.23      46.83   2.375 0.022820 *  \n",
       "Ed            203.63      60.12   3.387 0.001687 ** \n",
       "Po1           297.89      52.08   5.719 1.51e-06 ***\n",
       "M.F            68.74      41.63   1.651 0.107134    \n",
       "NW             16.55      53.15   0.311 0.757222    \n",
       "U1           -109.46      60.94  -1.796 0.080609 .  \n",
       "U2            156.94      62.09   2.528 0.015889 *  \n",
       "Ineq          236.70      61.95   3.821 0.000492 ***\n",
       "Prob          -89.99      36.28  -2.481 0.017791 *  \n",
       "---\n",
       "Signif. codes:  0 '***' 0.001 '**' 0.01 '*' 0.05 '.' 0.1 ' ' 1\n",
       "\n",
       "Residual standard error: 197.9 on 37 degrees of freedom\n",
       "Multiple R-squared:  0.7894,\tAdjusted R-squared:  0.7381 \n",
       "F-statistic: 15.41 on 9 and 37 DF,  p-value: 4.881e-10\n"
      ]
     },
     "metadata": {},
     "output_type": "display_data"
    }
   ],
   "source": [
    "# Testing the trained lasso model after developing a linear regression\n",
    "summary(lasso_linear_model)"
   ]
  },
  {
   "cell_type": "markdown",
   "metadata": {},
   "source": [
    "### Elastic Net"
   ]
  },
  {
   "cell_type": "code",
   "execution_count": 17,
   "metadata": {},
   "outputs": [],
   "source": [
    "#It is important to find the alpha value to be able to develop the Elastic net\n",
    "\n",
    "mse_list <- numeric()\n",
    "\n",
    "search_alpha <- function(num_value, scaled_data){\n",
    "    alpha <- num_value\n",
    "    elastic_net <- cv.glmnet(x=as.matrix(scaled_data[,-16]),\n",
    "                        y=as.matrix(scaled_data[,16]),\n",
    "                        alpha = alpha,\n",
    "                        nfolds=5,\n",
    "                        type.measure=\"mse\",\n",
    "                        family=\"gaussian\",\n",
    "                        standardize=FALSE)\n",
    "    \n",
    "        mse_list <<- cbind(mse_list, c(alpha, min(elastic_net$cvm),elastic_net$lambda.min))    \n",
    "}"
   ]
  },
  {
   "cell_type": "code",
   "execution_count": 18,
   "metadata": {},
   "outputs": [],
   "source": [
    "for (i in seq(.01,1,by = .01)){search_alpha(i,scaled_data)}"
   ]
  },
  {
   "cell_type": "code",
   "execution_count": 19,
   "metadata": {},
   "outputs": [],
   "source": [
    "minIndex <- which.min(mse_list[2,])"
   ]
  },
  {
   "cell_type": "code",
   "execution_count": 20,
   "metadata": {},
   "outputs": [
    {
     "data": {
      "text/html": [
       "0.8"
      ],
      "text/latex": [
       "0.8"
      ],
      "text/markdown": [
       "0.8"
      ],
      "text/plain": [
       "[1] 0.8"
      ]
     },
     "metadata": {},
     "output_type": "display_data"
    }
   ],
   "source": [
    "# The alpha value will be used as part of the model for the development.\n",
    "\n",
    "mse_list[1, minIndex]"
   ]
  },
  {
   "cell_type": "code",
   "execution_count": 21,
   "metadata": {},
   "outputs": [],
   "source": [
    "elastic_net_final <- cv.glmnet(x=as.matrix(scaled_data[,-16]),\n",
    "                        y=as.matrix(scaled_data[,16]),\n",
    "                        alpha = 0.26,\n",
    "                        nfolds=5,\n",
    "                        type.measure=\"mse\",\n",
    "                        family=\"gaussian\",\n",
    "                        standardize=FALSE)"
   ]
  },
  {
   "cell_type": "code",
   "execution_count": 22,
   "metadata": {},
   "outputs": [
    {
     "data": {
      "text/plain": [
       "16 x 1 sparse Matrix of class \"dgCMatrix\"\n",
       "                     1\n",
       "(Intercept) 900.219667\n",
       "M            93.139696\n",
       "Ed          138.787373\n",
       "Po1         199.220825\n",
       "Po2          78.485074\n",
       "LF            .       \n",
       "M.F          66.718527\n",
       "Pop          -2.658487\n",
       "NW           27.340856\n",
       "U1          -64.139269\n",
       "U2           99.200515\n",
       "Wealth       39.484214\n",
       "Ineq        200.575065\n",
       "Prob        -85.446760\n",
       "Time          .       \n",
       "So           14.292230"
      ]
     },
     "metadata": {},
     "output_type": "display_data"
    }
   ],
   "source": [
    "coef(elastic_net_final, s = elastic_net_final$lambda.min)\n",
    "\n",
    "# The linear regression model will be develop in the following section\n",
    "elastic_linear_regression <- lm(Crime ~ ., data = scaled_data[, -4])\n",
    "\n"
   ]
  },
  {
   "cell_type": "code",
   "execution_count": 23,
   "metadata": {},
   "outputs": [
    {
     "data": {
      "text/plain": [
       "\n",
       "Call:\n",
       "lm(formula = Crime ~ ., data = scaled_data[, -4])\n",
       "\n",
       "Residuals:\n",
       "    Min      1Q  Median      3Q     Max \n",
       "-442.55 -116.46    8.86  118.26  473.49 \n",
       "\n",
       "Coefficients:\n",
       "            Estimate Std. Error t value Pr(>|t|)    \n",
       "(Intercept)  903.155     58.889  15.336 2.66e-16 ***\n",
       "M            112.934     52.244   2.162 0.038232 *  \n",
       "Ed           198.350     68.044   2.915 0.006445 ** \n",
       "Po1          286.864     71.091   4.035 0.000317 ***\n",
       "LF           -11.321     56.896  -0.199 0.843538    \n",
       "M.F           53.684     59.798   0.898 0.376026    \n",
       "Pop          -29.833     48.950  -0.609 0.546523    \n",
       "NW            25.149     63.619   0.395 0.695239    \n",
       "U1           -97.649     75.332  -1.296 0.204164    \n",
       "U2           143.034     69.378   2.062 0.047441 *  \n",
       "Wealth        87.540     99.662   0.878 0.386292    \n",
       "Ineq         290.076     90.023   3.222 0.002921 ** \n",
       "Prob         -97.432     49.655  -1.962 0.058484 .  \n",
       "Time          -7.991     47.425  -0.168 0.867251    \n",
       "So             5.669    148.100   0.038 0.969705    \n",
       "---\n",
       "Signif. codes:  0 '***' 0.001 '**' 0.01 '*' 0.05 '.' 0.1 ' ' 1\n",
       "\n",
       "Residual standard error: 208.6 on 32 degrees of freedom\n",
       "Multiple R-squared:  0.7976,\tAdjusted R-squared:  0.709 \n",
       "F-statistic: 9.006 on 14 and 32 DF,  p-value: 1.673e-07\n"
      ]
     },
     "metadata": {},
     "output_type": "display_data"
    }
   ],
   "source": [
    "# The summary of the elastic linear regression will be presented in the following:\n",
    "\n",
    "summary(elastic_linear_regression)"
   ]
  },
  {
   "cell_type": "code",
   "execution_count": null,
   "metadata": {},
   "outputs": [],
   "source": []
  }
 ],
 "metadata": {
  "kernelspec": {
   "display_name": "R",
   "language": "R",
   "name": "ir"
  },
  "language_info": {
   "codemirror_mode": "r",
   "file_extension": ".r",
   "mimetype": "text/x-r-source",
   "name": "R",
   "pygments_lexer": "r",
   "version": "3.6.1"
  }
 },
 "nbformat": 4,
 "nbformat_minor": 2
}
