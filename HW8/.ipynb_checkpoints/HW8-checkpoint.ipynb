{
 "cells": [
  {
   "cell_type": "code",
   "execution_count": 1,
   "metadata": {},
   "outputs": [
    {
     "name": "stdout",
     "output_type": "stream",
     "text": [
      "package 'leaps' successfully unpacked and MD5 sums checked\n",
      "\n",
      "The downloaded binary packages are in\n",
      "\tC:\\Users\\ashka\\AppData\\Local\\Temp\\Rtmp6XRF9L\\downloaded_packages\n"
     ]
    }
   ],
   "source": [
    "install.packages('leaps')"
   ]
  },
  {
   "cell_type": "code",
   "execution_count": 2,
   "metadata": {},
   "outputs": [
    {
     "name": "stderr",
     "output_type": "stream",
     "text": [
      "Loading required package: lattice\n",
      "Loading required package: ggplot2\n",
      "Registered S3 methods overwritten by 'ggplot2':\n",
      "  method         from \n",
      "  [.quosures     rlang\n",
      "  c.quosures     rlang\n",
      "  print.quosures rlang\n",
      "Loading required package: Matrix\n",
      "Loading required package: foreach\n",
      "Loaded glmnet 2.0-16\n",
      "\n"
     ]
    }
   ],
   "source": [
    "library(caret)\n",
    "library(leaps)\n",
    "library(MASS)\n",
    "library(glmnet)"
   ]
  },
  {
   "cell_type": "code",
   "execution_count": 3,
   "metadata": {},
   "outputs": [],
   "source": [
    "raw_data<-read.table(file = './uscrime.txt',header = TRUE)"
   ]
  },
  {
   "cell_type": "code",
   "execution_count": 4,
   "metadata": {},
   "outputs": [],
   "source": [
    "#It is necessary to scale the data as mentioned also in the lecture to optimize the coeffiect range\n",
    "\n",
    "remove_points <- c(\"So\",\"Crime\")\n",
    "data_remove_points<-raw_data[, !(names(raw_data) %in% remove_points)]\n",
    "scaled_data_removed<-scale(data_remove_points)\n",
    "scaled_data<-cbind(scaled_data_removed,raw_data[,remove_points])\n"
   ]
  },
  {
   "cell_type": "code",
   "execution_count": 5,
   "metadata": {},
   "outputs": [],
   "source": [
    "# The step wise regression is implemented here:\n",
    "# The range of features is tried to find the optimum model\n",
    "\n",
    "\n",
    "control_variable <- trainControl(method = \"repeatedcv\", number = 5, repeats = 5)\n",
    "\n",
    "step_wise_model <- train(Crime ~., data = scaled_data, method = \"leapSeq\",tuneGrid = data.frame(nvmax = 1:15), trControl = control_variable)\n"
   ]
  },
  {
   "cell_type": "code",
   "execution_count": 6,
   "metadata": {},
   "outputs": [
    {
     "data": {
      "text/html": [
       "<table>\n",
       "<thead><tr><th scope=col>nvmax</th><th scope=col>RMSE</th><th scope=col>Rsquared</th><th scope=col>MAE</th><th scope=col>RMSESD</th><th scope=col>RsquaredSD</th><th scope=col>MAESD</th></tr></thead>\n",
       "<tbody>\n",
       "\t<tr><td> 1       </td><td>294.5460 </td><td>0.5024015</td><td>230.3326 </td><td>57.16420 </td><td>0.2711487</td><td>45.67748 </td></tr>\n",
       "\t<tr><td> 2       </td><td>304.0580 </td><td>0.4327204</td><td>237.2417 </td><td>87.07241 </td><td>0.3241542</td><td>69.37026 </td></tr>\n",
       "\t<tr><td> 3       </td><td>253.6200 </td><td>0.5979267</td><td>197.0812 </td><td>69.22264 </td><td>0.2291249</td><td>52.50626 </td></tr>\n",
       "\t<tr><td> 4       </td><td>274.9682 </td><td>0.5398933</td><td>222.7714 </td><td>49.04521 </td><td>0.1737239</td><td>38.15997 </td></tr>\n",
       "\t<tr><td> 5       </td><td>270.2457 </td><td>0.5322674</td><td>214.9128 </td><td>67.57155 </td><td>0.2184027</td><td>52.21556 </td></tr>\n",
       "\t<tr><td> 6       </td><td>254.8498 </td><td>0.5701865</td><td>203.9222 </td><td>63.62628 </td><td>0.2021544</td><td>54.07609 </td></tr>\n",
       "\t<tr><td> 7       </td><td>284.9805 </td><td>0.4901707</td><td>225.8337 </td><td>67.60011 </td><td>0.2069040</td><td>50.54777 </td></tr>\n",
       "\t<tr><td> 8       </td><td>289.8321 </td><td>0.4899043</td><td>228.7788 </td><td>68.73044 </td><td>0.2164625</td><td>56.10773 </td></tr>\n",
       "\t<tr><td> 9       </td><td>279.5637 </td><td>0.5116928</td><td>216.9990 </td><td>56.91231 </td><td>0.2377216</td><td>41.40535 </td></tr>\n",
       "\t<tr><td>10       </td><td>289.3967 </td><td>0.4898487</td><td>226.1517 </td><td>68.59446 </td><td>0.2016152</td><td>57.99701 </td></tr>\n",
       "\t<tr><td>11       </td><td>283.1645 </td><td>0.5052891</td><td>222.1843 </td><td>70.63005 </td><td>0.2123056</td><td>59.55509 </td></tr>\n",
       "\t<tr><td>12       </td><td>279.7976 </td><td>0.5097751</td><td>220.7788 </td><td>74.28770 </td><td>0.2214257</td><td>66.32280 </td></tr>\n",
       "\t<tr><td>13       </td><td>274.1277 </td><td>0.5398265</td><td>215.3347 </td><td>71.02063 </td><td>0.2066696</td><td>60.36881 </td></tr>\n",
       "\t<tr><td>14       </td><td>278.6060 </td><td>0.5234622</td><td>217.1543 </td><td>67.21213 </td><td>0.2187418</td><td>57.06595 </td></tr>\n",
       "\t<tr><td>15       </td><td>285.0075 </td><td>0.5052440</td><td>221.9266 </td><td>65.47465 </td><td>0.2158447</td><td>57.52572 </td></tr>\n",
       "</tbody>\n",
       "</table>\n"
      ],
      "text/latex": [
       "\\begin{tabular}{r|lllllll}\n",
       " nvmax & RMSE & Rsquared & MAE & RMSESD & RsquaredSD & MAESD\\\\\n",
       "\\hline\n",
       "\t  1        & 294.5460  & 0.5024015 & 230.3326  & 57.16420  & 0.2711487 & 45.67748 \\\\\n",
       "\t  2        & 304.0580  & 0.4327204 & 237.2417  & 87.07241  & 0.3241542 & 69.37026 \\\\\n",
       "\t  3        & 253.6200  & 0.5979267 & 197.0812  & 69.22264  & 0.2291249 & 52.50626 \\\\\n",
       "\t  4        & 274.9682  & 0.5398933 & 222.7714  & 49.04521  & 0.1737239 & 38.15997 \\\\\n",
       "\t  5        & 270.2457  & 0.5322674 & 214.9128  & 67.57155  & 0.2184027 & 52.21556 \\\\\n",
       "\t  6        & 254.8498  & 0.5701865 & 203.9222  & 63.62628  & 0.2021544 & 54.07609 \\\\\n",
       "\t  7        & 284.9805  & 0.4901707 & 225.8337  & 67.60011  & 0.2069040 & 50.54777 \\\\\n",
       "\t  8        & 289.8321  & 0.4899043 & 228.7788  & 68.73044  & 0.2164625 & 56.10773 \\\\\n",
       "\t  9        & 279.5637  & 0.5116928 & 216.9990  & 56.91231  & 0.2377216 & 41.40535 \\\\\n",
       "\t 10        & 289.3967  & 0.4898487 & 226.1517  & 68.59446  & 0.2016152 & 57.99701 \\\\\n",
       "\t 11        & 283.1645  & 0.5052891 & 222.1843  & 70.63005  & 0.2123056 & 59.55509 \\\\\n",
       "\t 12        & 279.7976  & 0.5097751 & 220.7788  & 74.28770  & 0.2214257 & 66.32280 \\\\\n",
       "\t 13        & 274.1277  & 0.5398265 & 215.3347  & 71.02063  & 0.2066696 & 60.36881 \\\\\n",
       "\t 14        & 278.6060  & 0.5234622 & 217.1543  & 67.21213  & 0.2187418 & 57.06595 \\\\\n",
       "\t 15        & 285.0075  & 0.5052440 & 221.9266  & 65.47465  & 0.2158447 & 57.52572 \\\\\n",
       "\\end{tabular}\n"
      ],
      "text/markdown": [
       "\n",
       "| nvmax | RMSE | Rsquared | MAE | RMSESD | RsquaredSD | MAESD |\n",
       "|---|---|---|---|---|---|---|\n",
       "|  1        | 294.5460  | 0.5024015 | 230.3326  | 57.16420  | 0.2711487 | 45.67748  |\n",
       "|  2        | 304.0580  | 0.4327204 | 237.2417  | 87.07241  | 0.3241542 | 69.37026  |\n",
       "|  3        | 253.6200  | 0.5979267 | 197.0812  | 69.22264  | 0.2291249 | 52.50626  |\n",
       "|  4        | 274.9682  | 0.5398933 | 222.7714  | 49.04521  | 0.1737239 | 38.15997  |\n",
       "|  5        | 270.2457  | 0.5322674 | 214.9128  | 67.57155  | 0.2184027 | 52.21556  |\n",
       "|  6        | 254.8498  | 0.5701865 | 203.9222  | 63.62628  | 0.2021544 | 54.07609  |\n",
       "|  7        | 284.9805  | 0.4901707 | 225.8337  | 67.60011  | 0.2069040 | 50.54777  |\n",
       "|  8        | 289.8321  | 0.4899043 | 228.7788  | 68.73044  | 0.2164625 | 56.10773  |\n",
       "|  9        | 279.5637  | 0.5116928 | 216.9990  | 56.91231  | 0.2377216 | 41.40535  |\n",
       "| 10        | 289.3967  | 0.4898487 | 226.1517  | 68.59446  | 0.2016152 | 57.99701  |\n",
       "| 11        | 283.1645  | 0.5052891 | 222.1843  | 70.63005  | 0.2123056 | 59.55509  |\n",
       "| 12        | 279.7976  | 0.5097751 | 220.7788  | 74.28770  | 0.2214257 | 66.32280  |\n",
       "| 13        | 274.1277  | 0.5398265 | 215.3347  | 71.02063  | 0.2066696 | 60.36881  |\n",
       "| 14        | 278.6060  | 0.5234622 | 217.1543  | 67.21213  | 0.2187418 | 57.06595  |\n",
       "| 15        | 285.0075  | 0.5052440 | 221.9266  | 65.47465  | 0.2158447 | 57.52572  |\n",
       "\n"
      ],
      "text/plain": [
       "   nvmax RMSE     Rsquared  MAE      RMSESD   RsquaredSD MAESD   \n",
       "1   1    294.5460 0.5024015 230.3326 57.16420 0.2711487  45.67748\n",
       "2   2    304.0580 0.4327204 237.2417 87.07241 0.3241542  69.37026\n",
       "3   3    253.6200 0.5979267 197.0812 69.22264 0.2291249  52.50626\n",
       "4   4    274.9682 0.5398933 222.7714 49.04521 0.1737239  38.15997\n",
       "5   5    270.2457 0.5322674 214.9128 67.57155 0.2184027  52.21556\n",
       "6   6    254.8498 0.5701865 203.9222 63.62628 0.2021544  54.07609\n",
       "7   7    284.9805 0.4901707 225.8337 67.60011 0.2069040  50.54777\n",
       "8   8    289.8321 0.4899043 228.7788 68.73044 0.2164625  56.10773\n",
       "9   9    279.5637 0.5116928 216.9990 56.91231 0.2377216  41.40535\n",
       "10 10    289.3967 0.4898487 226.1517 68.59446 0.2016152  57.99701\n",
       "11 11    283.1645 0.5052891 222.1843 70.63005 0.2123056  59.55509\n",
       "12 12    279.7976 0.5097751 220.7788 74.28770 0.2214257  66.32280\n",
       "13 13    274.1277 0.5398265 215.3347 71.02063 0.2066696  60.36881\n",
       "14 14    278.6060 0.5234622 217.1543 67.21213 0.2187418  57.06595\n",
       "15 15    285.0075 0.5052440 221.9266 65.47465 0.2158447  57.52572"
      ]
     },
     "metadata": {},
     "output_type": "display_data"
    }
   ],
   "source": [
    "step_wise_model$results"
   ]
  },
  {
   "cell_type": "code",
   "execution_count": 7,
   "metadata": {},
   "outputs": [
    {
     "data": {
      "text/plain": [
       "Subset selection object\n",
       "15 Variables  (and intercept)\n",
       "       Forced in Forced out\n",
       "M          FALSE      FALSE\n",
       "Ed         FALSE      FALSE\n",
       "Po1        FALSE      FALSE\n",
       "Po2        FALSE      FALSE\n",
       "LF         FALSE      FALSE\n",
       "M.F        FALSE      FALSE\n",
       "Pop        FALSE      FALSE\n",
       "NW         FALSE      FALSE\n",
       "U1         FALSE      FALSE\n",
       "U2         FALSE      FALSE\n",
       "Wealth     FALSE      FALSE\n",
       "Ineq       FALSE      FALSE\n",
       "Prob       FALSE      FALSE\n",
       "Time       FALSE      FALSE\n",
       "So         FALSE      FALSE\n",
       "1 subsets of each size up to 3\n",
       "Selection Algorithm: 'sequential replacement'\n",
       "         M   Ed  Po1 Po2 LF  M.F Pop NW  U1  U2  Wealth Ineq Prob Time So \n",
       "1  ( 1 ) \" \" \" \" \"*\" \" \" \" \" \" \" \" \" \" \" \" \" \" \" \" \"    \" \"  \" \"  \" \"  \" \"\n",
       "2  ( 1 ) \" \" \" \" \"*\" \" \" \" \" \" \" \" \" \" \" \" \" \" \" \" \"    \"*\"  \" \"  \" \"  \" \"\n",
       "3  ( 1 ) \" \" \"*\" \"*\" \" \" \" \" \" \" \" \" \" \" \" \" \" \" \" \"    \"*\"  \" \"  \" \"  \" \""
      ]
     },
     "metadata": {},
     "output_type": "display_data"
    }
   ],
   "source": [
    "summary(step_wise_model)"
   ]
  },
  {
   "cell_type": "code",
   "execution_count": 8,
   "metadata": {},
   "outputs": [],
   "source": [
    "#After investigating which features are selected by the step_wise\n",
    "#It is possible to built a linear regression based on the selected factors\n",
    "linear_regression_model<-lm(formula = Crime ~ M+So+Ed + Po1 , data = scaled_data)"
   ]
  },
  {
   "cell_type": "code",
   "execution_count": 9,
   "metadata": {},
   "outputs": [
    {
     "data": {
      "text/plain": [
       "\n",
       "Call:\n",
       "lm(formula = Crime ~ M + So + Ed + Po1, data = scaled_data)\n",
       "\n",
       "Coefficients:\n",
       "(Intercept)            M           So           Ed          Po1  \n",
       "     855.90       132.78       144.49        92.05       314.42  \n"
      ]
     },
     "metadata": {},
     "output_type": "display_data"
    }
   ],
   "source": [
    "linear_regression_model"
   ]
  },
  {
   "cell_type": "markdown",
   "metadata": {},
   "source": [
    "### Lasso Regression"
   ]
  },
  {
   "cell_type": "code",
   "execution_count": 16,
   "metadata": {},
   "outputs": [
    {
     "data": {
      "text/html": [
       "<table>\n",
       "<thead><tr><th scope=col>M</th><th scope=col>Ed</th><th scope=col>Po1</th><th scope=col>Po2</th><th scope=col>LF</th><th scope=col>M.F</th><th scope=col>Pop</th><th scope=col>NW</th><th scope=col>U1</th><th scope=col>U2</th><th scope=col>Wealth</th><th scope=col>Ineq</th><th scope=col>Prob</th><th scope=col>Time</th><th scope=col>So</th><th scope=col>Crime</th></tr></thead>\n",
       "<tbody>\n",
       "\t<tr><td> 0.9886930  </td><td>-1.3085099  </td><td>-0.9085105  </td><td>-0.8666988  </td><td>-1.2667456  </td><td>-1.12060499 </td><td>-0.09500679 </td><td> 1.943738564</td><td> 0.69510600 </td><td> 0.8313680  </td><td>-1.3616094  </td><td> 1.6793638  </td><td> 1.6497631  </td><td>-0.05599367 </td><td>1           </td><td> 791        </td></tr>\n",
       "\t<tr><td> 0.3521372  </td><td> 0.6580587  </td><td> 0.6056737  </td><td> 0.5280852  </td><td> 0.5396568  </td><td> 0.98341752 </td><td>-0.62033844 </td><td> 0.008483424</td><td> 0.02950365 </td><td> 0.2393332  </td><td> 0.3276683  </td><td> 0.0000000  </td><td>-0.7693365  </td><td>-0.18315796 </td><td>0           </td><td>1635        </td></tr>\n",
       "\t<tr><td> 0.2725678  </td><td>-1.4872888  </td><td>-1.3459415  </td><td>-1.2958632  </td><td>-0.6976051  </td><td>-0.47582390 </td><td>-0.48900552 </td><td> 1.146296747</td><td>-0.08143007 </td><td>-0.1158877  </td><td>-2.1492481  </td><td> 1.4036474  </td><td> 1.5969416  </td><td>-0.32416470 </td><td>1           </td><td> 578        </td></tr>\n",
       "\t<tr><td>-0.2048491  </td><td> 1.3731746  </td><td> 2.1535064  </td><td> 2.1732150  </td><td> 0.3911854  </td><td> 0.37257228 </td><td> 3.16204944 </td><td>-0.205464381</td><td> 0.36230482 </td><td> 0.5945541  </td><td> 1.5298536  </td><td>-0.6767585  </td><td>-1.3761895  </td><td> 0.46611085 </td><td>0           </td><td>1969        </td></tr>\n",
       "\t<tr><td> 0.1929983  </td><td> 1.3731746  </td><td> 0.8075649  </td><td> 0.7426673  </td><td> 0.7376187  </td><td> 0.06714965 </td><td>-0.48900552 </td><td>-0.691709391</td><td>-0.24783066 </td><td>-1.6551781  </td><td> 0.5453053  </td><td>-0.5013026  </td><td>-0.2503580  </td><td>-0.74759413 </td><td>0           </td><td>1234        </td></tr>\n",
       "\t<tr><td>-1.3983912  </td><td> 0.3898903  </td><td> 1.1104017  </td><td> 1.2433590  </td><td>-0.3511718  </td><td>-0.64550313 </td><td>-0.30513945 </td><td>-0.555560788</td><td>-0.63609870 </td><td>-0.5895155  </td><td> 1.6956723  </td><td>-1.7044289  </td><td>-0.5669349  </td><td>-0.78996812 </td><td>0           </td><td> 682        </td></tr>\n",
       "</tbody>\n",
       "</table>\n"
      ],
      "text/latex": [
       "\\begin{tabular}{r|llllllllllllllll}\n",
       " M & Ed & Po1 & Po2 & LF & M.F & Pop & NW & U1 & U2 & Wealth & Ineq & Prob & Time & So & Crime\\\\\n",
       "\\hline\n",
       "\t  0.9886930   & -1.3085099   & -0.9085105   & -0.8666988   & -1.2667456   & -1.12060499  & -0.09500679  &  1.943738564 &  0.69510600  &  0.8313680   & -1.3616094   &  1.6793638   &  1.6497631   & -0.05599367  & 1            &  791        \\\\\n",
       "\t  0.3521372   &  0.6580587   &  0.6056737   &  0.5280852   &  0.5396568   &  0.98341752  & -0.62033844  &  0.008483424 &  0.02950365  &  0.2393332   &  0.3276683   &  0.0000000   & -0.7693365   & -0.18315796  & 0            & 1635        \\\\\n",
       "\t  0.2725678   & -1.4872888   & -1.3459415   & -1.2958632   & -0.6976051   & -0.47582390  & -0.48900552  &  1.146296747 & -0.08143007  & -0.1158877   & -2.1492481   &  1.4036474   &  1.5969416   & -0.32416470  & 1            &  578        \\\\\n",
       "\t -0.2048491   &  1.3731746   &  2.1535064   &  2.1732150   &  0.3911854   &  0.37257228  &  3.16204944  & -0.205464381 &  0.36230482  &  0.5945541   &  1.5298536   & -0.6767585   & -1.3761895   &  0.46611085  & 0            & 1969        \\\\\n",
       "\t  0.1929983   &  1.3731746   &  0.8075649   &  0.7426673   &  0.7376187   &  0.06714965  & -0.48900552  & -0.691709391 & -0.24783066  & -1.6551781   &  0.5453053   & -0.5013026   & -0.2503580   & -0.74759413  & 0            & 1234        \\\\\n",
       "\t -1.3983912   &  0.3898903   &  1.1104017   &  1.2433590   & -0.3511718   & -0.64550313  & -0.30513945  & -0.555560788 & -0.63609870  & -0.5895155   &  1.6956723   & -1.7044289   & -0.5669349   & -0.78996812  & 0            &  682        \\\\\n",
       "\\end{tabular}\n"
      ],
      "text/markdown": [
       "\n",
       "| M | Ed | Po1 | Po2 | LF | M.F | Pop | NW | U1 | U2 | Wealth | Ineq | Prob | Time | So | Crime |\n",
       "|---|---|---|---|---|---|---|---|---|---|---|---|---|---|---|---|\n",
       "|  0.9886930   | -1.3085099   | -0.9085105   | -0.8666988   | -1.2667456   | -1.12060499  | -0.09500679  |  1.943738564 |  0.69510600  |  0.8313680   | -1.3616094   |  1.6793638   |  1.6497631   | -0.05599367  | 1            |  791         |\n",
       "|  0.3521372   |  0.6580587   |  0.6056737   |  0.5280852   |  0.5396568   |  0.98341752  | -0.62033844  |  0.008483424 |  0.02950365  |  0.2393332   |  0.3276683   |  0.0000000   | -0.7693365   | -0.18315796  | 0            | 1635         |\n",
       "|  0.2725678   | -1.4872888   | -1.3459415   | -1.2958632   | -0.6976051   | -0.47582390  | -0.48900552  |  1.146296747 | -0.08143007  | -0.1158877   | -2.1492481   |  1.4036474   |  1.5969416   | -0.32416470  | 1            |  578         |\n",
       "| -0.2048491   |  1.3731746   |  2.1535064   |  2.1732150   |  0.3911854   |  0.37257228  |  3.16204944  | -0.205464381 |  0.36230482  |  0.5945541   |  1.5298536   | -0.6767585   | -1.3761895   |  0.46611085  | 0            | 1969         |\n",
       "|  0.1929983   |  1.3731746   |  0.8075649   |  0.7426673   |  0.7376187   |  0.06714965  | -0.48900552  | -0.691709391 | -0.24783066  | -1.6551781   |  0.5453053   | -0.5013026   | -0.2503580   | -0.74759413  | 0            | 1234         |\n",
       "| -1.3983912   |  0.3898903   |  1.1104017   |  1.2433590   | -0.3511718   | -0.64550313  | -0.30513945  | -0.555560788 | -0.63609870  | -0.5895155   |  1.6956723   | -1.7044289   | -0.5669349   | -0.78996812  | 0            |  682         |\n",
       "\n"
      ],
      "text/plain": [
       "  M          Ed         Po1        Po2        LF         M.F        \n",
       "1  0.9886930 -1.3085099 -0.9085105 -0.8666988 -1.2667456 -1.12060499\n",
       "2  0.3521372  0.6580587  0.6056737  0.5280852  0.5396568  0.98341752\n",
       "3  0.2725678 -1.4872888 -1.3459415 -1.2958632 -0.6976051 -0.47582390\n",
       "4 -0.2048491  1.3731746  2.1535064  2.1732150  0.3911854  0.37257228\n",
       "5  0.1929983  1.3731746  0.8075649  0.7426673  0.7376187  0.06714965\n",
       "6 -1.3983912  0.3898903  1.1104017  1.2433590 -0.3511718 -0.64550313\n",
       "  Pop         NW           U1          U2         Wealth     Ineq      \n",
       "1 -0.09500679  1.943738564  0.69510600  0.8313680 -1.3616094  1.6793638\n",
       "2 -0.62033844  0.008483424  0.02950365  0.2393332  0.3276683  0.0000000\n",
       "3 -0.48900552  1.146296747 -0.08143007 -0.1158877 -2.1492481  1.4036474\n",
       "4  3.16204944 -0.205464381  0.36230482  0.5945541  1.5298536 -0.6767585\n",
       "5 -0.48900552 -0.691709391 -0.24783066 -1.6551781  0.5453053 -0.5013026\n",
       "6 -0.30513945 -0.555560788 -0.63609870 -0.5895155  1.6956723 -1.7044289\n",
       "  Prob       Time        So Crime\n",
       "1  1.6497631 -0.05599367 1   791 \n",
       "2 -0.7693365 -0.18315796 0  1635 \n",
       "3  1.5969416 -0.32416470 1   578 \n",
       "4 -1.3761895  0.46611085 0  1969 \n",
       "5 -0.2503580 -0.74759413 0  1234 \n",
       "6 -0.5669349 -0.78996812 0   682 "
      ]
     },
     "metadata": {},
     "output_type": "display_data"
    }
   ],
   "source": [
    "# The following developed data set will be used for the Lasso Regression \n",
    "head(scaled_data)"
   ]
  },
  {
   "cell_type": "code",
   "execution_count": 12,
   "metadata": {},
   "outputs": [],
   "source": [
    "# The Lasso model will be developed in the following:\n",
    "\n",
    "lasso_model = cv.glmnet(x = as.matrix(scaled_data[,-16]),\n",
    "                        y = as.matrix(scaled_data$Crime),\n",
    "                        alpha = 1, nfolds = 5,\n",
    "                        type.measure = \"mse\", family = \"gaussian\", standardize = F)"
   ]
  },
  {
   "cell_type": "code",
   "execution_count": 17,
   "metadata": {},
   "outputs": [
    {
     "data": {
      "text/plain": [
       "16 x 1 sparse Matrix of class \"dgCMatrix\"\n",
       "                    1\n",
       "(Intercept) 905.08511\n",
       "M            92.40094\n",
       "Ed          135.92288\n",
       "Po1         303.64681\n",
       "Po2           .      \n",
       "LF            .      \n",
       "M.F          54.22320\n",
       "Pop           .      \n",
       "NW           12.64964\n",
       "U1          -41.41533\n",
       "U2           76.92850\n",
       "Wealth       10.42574\n",
       "Ineq        200.63622\n",
       "Prob        -78.44028\n",
       "Time          .      \n",
       "So            .      "
      ]
     },
     "metadata": {},
     "output_type": "display_data"
    }
   ],
   "source": [
    "#The summary of the lasso model is presented in the following:\n",
    "\n",
    "coef(lasso_model, s = lasso_model$lambda.min)"
   ]
  },
  {
   "cell_type": "code",
   "execution_count": 19,
   "metadata": {},
   "outputs": [],
   "source": [
    "# Regression model for the lasso will be presented in the following:\n",
    "lasso_linear_model <- lm(Crime ~ M + Ed + Po1 + M.F + NW + U1 + U2 + Ineq + Prob, data = scaled_data)"
   ]
  },
  {
   "cell_type": "code",
   "execution_count": 20,
   "metadata": {},
   "outputs": [
    {
     "data": {
      "text/plain": [
       "\n",
       "Call:\n",
       "lm(formula = Crime ~ M + Ed + Po1 + M.F + NW + U1 + U2 + Ineq + \n",
       "    Prob, data = scaled_data)\n",
       "\n",
       "Residuals:\n",
       "   Min     1Q Median     3Q    Max \n",
       "-439.2 -102.2   -6.3  124.1  476.6 \n",
       "\n",
       "Coefficients:\n",
       "            Estimate Std. Error t value Pr(>|t|)    \n",
       "(Intercept)   905.09      28.87  31.352  < 2e-16 ***\n",
       "M             111.23      46.83   2.375 0.022820 *  \n",
       "Ed            203.63      60.12   3.387 0.001687 ** \n",
       "Po1           297.89      52.08   5.719 1.51e-06 ***\n",
       "M.F            68.74      41.63   1.651 0.107134    \n",
       "NW             16.55      53.15   0.311 0.757222    \n",
       "U1           -109.46      60.94  -1.796 0.080609 .  \n",
       "U2            156.94      62.09   2.528 0.015889 *  \n",
       "Ineq          236.70      61.95   3.821 0.000492 ***\n",
       "Prob          -89.99      36.28  -2.481 0.017791 *  \n",
       "---\n",
       "Signif. codes:  0 '***' 0.001 '**' 0.01 '*' 0.05 '.' 0.1 ' ' 1\n",
       "\n",
       "Residual standard error: 197.9 on 37 degrees of freedom\n",
       "Multiple R-squared:  0.7894,\tAdjusted R-squared:  0.7381 \n",
       "F-statistic: 15.41 on 9 and 37 DF,  p-value: 4.881e-10\n"
      ]
     },
     "metadata": {},
     "output_type": "display_data"
    }
   ],
   "source": [
    "# Testing the trained lasso model after developing a linear regression\n",
    "summary(lasso_linear_model)"
   ]
  },
  {
   "cell_type": "markdown",
   "metadata": {},
   "source": [
    "### Elastic Net"
   ]
  },
  {
   "cell_type": "code",
   "execution_count": 26,
   "metadata": {},
   "outputs": [],
   "source": [
    "# mse_list <- numeric()\n",
    "#It is important to find the alpha value to be able to develop the Elastic net\n",
    "\n",
    "search_alpha <- function(num_value, scaled_data){\n",
    "    alpha <- num_value\n",
    "    elastic_net <- cv.glmnet(x=as.matrix(scaled_data[,-16]),\n",
    "                        y=as.matrix(scaled_data[,16]),\n",
    "                        alpha = alpha,\n",
    "                        nfolds=5,\n",
    "                        type.measure=\"mse\",\n",
    "                        family=\"gaussian\",\n",
    "                        standardize=FALSE)\n",
    "    \n",
    "        mse_list <<- cbind(mse_list, c(alpha, min(elastic_net$cvm),elastic_net$lambda.min))    \n",
    "}"
   ]
  },
  {
   "cell_type": "code",
   "execution_count": 27,
   "metadata": {},
   "outputs": [],
   "source": [
    "for (i in seq(.01,1,by = .01)){search_alpha(i,scaled_data)}"
   ]
  },
  {
   "cell_type": "code",
   "execution_count": 28,
   "metadata": {},
   "outputs": [],
   "source": [
    "minIndex <- which.min(mse_list[2,])"
   ]
  },
  {
   "cell_type": "code",
   "execution_count": 34,
   "metadata": {},
   "outputs": [
    {
     "data": {
      "text/html": [
       "0.26"
      ],
      "text/latex": [
       "0.26"
      ],
      "text/markdown": [
       "0.26"
      ],
      "text/plain": [
       "[1] 0.26"
      ]
     },
     "metadata": {},
     "output_type": "display_data"
    }
   ],
   "source": [
    "# The alpha value will be used as part of the model for the development.\n",
    "\n",
    "mse_list[1, minIndex]"
   ]
  },
  {
   "cell_type": "code",
   "execution_count": 36,
   "metadata": {},
   "outputs": [],
   "source": [
    "elastic_net_final <- cv.glmnet(x=as.matrix(scaled_data[,-16]),\n",
    "                        y=as.matrix(scaled_data[,16]),\n",
    "                        alpha = 0.26,\n",
    "                        nfolds=5,\n",
    "                        type.measure=\"mse\",\n",
    "                        family=\"gaussian\",\n",
    "                        standardize=FALSE)"
   ]
  },
  {
   "cell_type": "code",
   "execution_count": 41,
   "metadata": {},
   "outputs": [
    {
     "data": {
      "text/plain": [
       "16 x 1 sparse Matrix of class \"dgCMatrix\"\n",
       "                     1\n",
       "(Intercept) 903.058694\n",
       "M            82.145402\n",
       "Ed          107.146716\n",
       "Po1         177.790275\n",
       "Po2          98.627906\n",
       "LF            4.389526\n",
       "M.F          64.508037\n",
       "Pop           .       \n",
       "NW           30.394707\n",
       "U1          -44.593904\n",
       "U2           75.355510\n",
       "Wealth       21.141658\n",
       "Ineq        162.558993\n",
       "Prob        -80.840768\n",
       "Time          .       \n",
       "So            5.952586"
      ]
     },
     "metadata": {},
     "output_type": "display_data"
    }
   ],
   "source": [
    "coef(elastic_net_final, s = elastic_net_final$lambda.min)\n",
    "\n",
    "# The linear regression model will be develop in the following section\n",
    "elastic_linear_regression <- lm(Crime ~ ., data = scaled_data[, -4])\n",
    "\n"
   ]
  },
  {
   "cell_type": "code",
   "execution_count": 42,
   "metadata": {},
   "outputs": [
    {
     "data": {
      "text/plain": [
       "\n",
       "Call:\n",
       "lm(formula = Crime ~ ., data = scaled_data[, -4])\n",
       "\n",
       "Residuals:\n",
       "    Min      1Q  Median      3Q     Max \n",
       "-442.55 -116.46    8.86  118.26  473.49 \n",
       "\n",
       "Coefficients:\n",
       "            Estimate Std. Error t value Pr(>|t|)    \n",
       "(Intercept)  903.155     58.889  15.336 2.66e-16 ***\n",
       "M            112.934     52.244   2.162 0.038232 *  \n",
       "Ed           198.350     68.044   2.915 0.006445 ** \n",
       "Po1          286.864     71.091   4.035 0.000317 ***\n",
       "LF           -11.321     56.896  -0.199 0.843538    \n",
       "M.F           53.684     59.798   0.898 0.376026    \n",
       "Pop          -29.833     48.950  -0.609 0.546523    \n",
       "NW            25.149     63.619   0.395 0.695239    \n",
       "U1           -97.649     75.332  -1.296 0.204164    \n",
       "U2           143.034     69.378   2.062 0.047441 *  \n",
       "Wealth        87.540     99.662   0.878 0.386292    \n",
       "Ineq         290.076     90.023   3.222 0.002921 ** \n",
       "Prob         -97.432     49.655  -1.962 0.058484 .  \n",
       "Time          -7.991     47.425  -0.168 0.867251    \n",
       "So             5.669    148.100   0.038 0.969705    \n",
       "---\n",
       "Signif. codes:  0 '***' 0.001 '**' 0.01 '*' 0.05 '.' 0.1 ' ' 1\n",
       "\n",
       "Residual standard error: 208.6 on 32 degrees of freedom\n",
       "Multiple R-squared:  0.7976,\tAdjusted R-squared:  0.709 \n",
       "F-statistic: 9.006 on 14 and 32 DF,  p-value: 1.673e-07\n"
      ]
     },
     "metadata": {},
     "output_type": "display_data"
    }
   ],
   "source": [
    "# The summary of the elastic linear regression will be presented in the following:\n",
    "\n",
    "summary(elastic_linear_regression)"
   ]
  }
 ],
 "metadata": {
  "kernelspec": {
   "display_name": "R",
   "language": "R",
   "name": "ir"
  },
  "language_info": {
   "codemirror_mode": "r",
   "file_extension": ".r",
   "mimetype": "text/x-r-source",
   "name": "R",
   "pygments_lexer": "r",
   "version": "3.6.1"
  }
 },
 "nbformat": 4,
 "nbformat_minor": 2
}
